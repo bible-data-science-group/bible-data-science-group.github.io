{
  "nbformat": 4,
  "nbformat_minor": 0,
  "metadata": {
    "colab": {
      "name": "CleanBible.ipynb",
      "provenance": [],
      "collapsed_sections": [],
      "include_colab_link": true
    },
    "kernelspec": {
      "name": "python3",
      "display_name": "Python 3"
    }
  },
  "cells": [
    {
      "cell_type": "markdown",
      "metadata": {
        "id": "view-in-github",
        "colab_type": "text"
      },
      "source": [
        "<a href=\"https://colab.research.google.com/github/roni762583/bible-data-science.github.io/blob/master/CleanBible.ipynb\" target=\"_parent\"><img src=\"https://colab.research.google.com/assets/colab-badge.svg\" alt=\"Open In Colab\"/></a>"
      ]
    },
    {
      "cell_type": "code",
      "metadata": {
        "id": "6zBzsPxHN65m"
      },
      "source": [
        "import numpy as np\n",
        "import matplotlib.pyplot as plt\n",
        "import pandas as pd\n",
        "import math\n"
      ],
      "execution_count": 1,
      "outputs": []
    },
    {
      "cell_type": "code",
      "metadata": {
        "id": "nhfJX_ApDEeu",
        "colab": {
          "base_uri": "https://localhost:8080/"
        },
        "outputId": "bac8330b-f8d7-4400-fbaa-e83560d08f93"
      },
      "source": [
        "#clone data into datafile\n",
        "! git clone https://github.com/roni762583/bible-data-science.github.io.git\n",
        "# copy my datafile\n",
        "! cp /content/bible-data-science.github.io/data/t3utf.dat datafile\n",
        "# delete unused parts\n",
        "! rm -rf /content/bible-data-science.github.io/\n",
        "! ls -la"
      ],
      "execution_count": 3,
      "outputs": [
        {
          "output_type": "stream",
          "text": [
            "Cloning into 'bible-data-science.github.io'...\n",
            "remote: Enumerating objects: 56, done.\u001b[K\n",
            "remote: Counting objects: 100% (56/56), done.\u001b[K\n",
            "remote: Compressing objects: 100% (56/56), done.\u001b[K\n",
            "remote: Total 208 (delta 30), reused 0 (delta 0), pack-reused 152\u001b[K\n",
            "Receiving objects: 100% (208/208), 7.94 MiB | 9.73 MiB/s, done.\n",
            "Resolving deltas: 100% (107/107), done.\n",
            "total 5648\n",
            "drwxr-xr-x 1 root root    4096 Feb  1 23:09 .\n",
            "drwxr-xr-x 1 root root    4096 Feb  1 23:05 ..\n",
            "drwxr-xr-x 1 root root    4096 Jan 28 17:15 .config\n",
            "-rw-r--r-- 1 root root 5763655 Feb  1 23:09 datafile\n",
            "drwxr-xr-x 1 root root    4096 Jan 20 17:27 sample_data\n"
          ],
          "name": "stdout"
        }
      ]
    },
    {
      "cell_type": "code",
      "metadata": {
        "colab": {
          "base_uri": "https://localhost:8080/"
        },
        "id": "nuodPeMyl6Vh",
        "outputId": "97e40856-727c-4e44-e4df-bf46c2e3dc1a"
      },
      "source": [
        "# get unicode codes for each char in file preserving order and lines stucture 01/25/2021\n",
        "f = 'א'\n",
        "ef = f.encode(\"unicode_escape\")\n",
        "df = ef.decode(\"unicode_escape\")\n",
        "print(f,ef,df)\n",
        "print('-----')\n",
        "file = open('datafile','r')\n",
        "lineCount = 0\n",
        "NonHebrewCharsLst = list() # list to hold non-Hebrew block chars\n",
        "badLines = list() # list for line numbers with non-Hebrew chars to manually review\n",
        "exceptions = [' ']\n",
        "nonHebrewLtrCt = 0 # loop counter\n",
        "for line in file: \n",
        "    lineCount += 1\n",
        "    index = line.rfind('|')+1\n",
        "    verse = line[:index] # from begining to last occurance of | symbol\n",
        "    lineText = line[index:].strip()#.replace('׃','') #strip removes newline char, replace removes sof-pasuk colon \n",
        "    \n",
        "    # range of character code points in unicode Hebrew Block: 0590..05FF; Hebrew\n",
        "    for char in lineText:\n",
        "      hexS = hex(ord(char)) # string type, holding hex code of integer representing the Unicode character.\n",
        "      intS = str(int(hexS,16)).encode(\"unicode_escape\").decode(\"unicode_escape\") # string type, int representing  the Unicode character\n",
        "      # print('block start: ', int('0x590',16), 'char: ', int(hexS,16), 'block end: ', int('0x5FF',16))\n",
        "      #break\n",
        "      bol1 = int(hexS,16)>=int('0x590',16)\n",
        "      bol2 = int(hexS,16)<=int('0x5FF',16)\n",
        "      bol3 = bol1 and bol2\n",
        "      # print(bol3)\n",
        "      if (bol3): #i.e. if in Hebrew char block\n",
        "        continue\n",
        "        print(chr(int(hexS,16))) # hex code for char in\n",
        "      else: # if char not in Hebrew block of unicode\n",
        "        if (char in exceptions):\n",
        "          continue\n",
        "        nonHebrewLtrCt += 1\n",
        "        NonHebrewCharsLst.append(intS) # str(int(hexS,16)))\n",
        "        badLines.append(lineCount)\n",
        "    if(not(bol3)):\n",
        "      print('on line ', lineCount, 'look for ', line)\n",
        "      cleanLine = lineText.replace('׃','') # replace removes sof-pasuk colon \n",
        "      kri = cleanLine\n",
        "# output results\n",
        "print('line count: ', lineCount)\n",
        "print('verse: ', verse)\n",
        "print('lineText: ', lineText)\n",
        "encodedVerse = lineText.encode(\"unicode_escape\")\n",
        "decodedVerse = encodedVerse.decode(\"unicode_escape\")\n",
        "print('code points: ', encodedVerse)\n",
        "print('decoded verse: ', decodedVerse)\n",
        "uniqueChars = list(set(lineText)) # get unique chars list\n",
        "print('unique chars: ', uniqueChars)\n",
        "\n",
        "uniqueNonHebrewCharsLst = list(set(NonHebrewCharsLst))\n",
        "print('number of unique non-Hebrew block chars', len(uniqueNonHebrewCharsLst))\n",
        "# print out total count of non-Hebrew block chars, and unique set of charsof this count\n",
        "print('nonHebrewLtrCt: ', nonHebrewLtrCt, '\\nunique list: ', uniqueNonHebrewCharsLst)\n",
        "# dictionary for line numbers of non-Hebrew occurances\n",
        "dic = dict()\n",
        "for c in uniqueNonHebrewCharsLst:\n",
        "  #print(chr(int(c)))\n",
        "  if chr(int(c)) in dic:\n",
        "    dic[chr(int(c))] = dic[chr(int(c))] + 1\n",
        "  else:\n",
        "    dic[chr(int(c))] = 1\n",
        "# print dictionary\n",
        "#print('dictionary of non-Heb char ct: ', dic)\n",
        "#print(int('0x5FF',16))\n",
        "#print(int(hexS,16))\n",
        "#print()\n",
        "print(set(badLines))\n",
        "print(badLines[0])\n",
        "#print(len(s))\n"
      ],
      "execution_count": 8,
      "outputs": [
        {
          "output_type": "stream",
          "text": [
            "א b'\\\\u05d0' א\n",
            "-----\n",
            "on line  731 look for  gen|27|3|וְעַתָּה֙ שָׂא־נָ֣א כֵלֶ֔יךָ תֶּלְיְךָ֖ וְקַשְׁתֶּ֑ךָ וְצֵא֙ הַשָּׂדֶ֔ה וְצ֥וּדָה לִּ֖י <font color=\"brown\">צֵידָה</font> <font color=\"blue\">צָֽיִד׃</font> \n",
            "\n",
            "on line  1319 look for  gen|43|28|וַיֹּאמְר֗וּ שָׁלֹ֛ום לְעַבְדְּךָ֥ לְאָבִ֖ינוּ עֹודֶ֣נּוּ חָ֑י וַֽיִּקְּד֖וּ <font color=\"brown\">וַיִּשְׁתַּחוּ</font> <font color=\"blue\">וַיִּֽשְׁתַּחֲוּֽוּ<font color=\"red\"><sup>1</font></sup>׃</font> \n",
            "\n",
            "on line  1485 look for  gen|49|11|אֹסְרִ֤י לַגֶּ֙פֶן֙ <font color=\"brown\">עִירֹה</font> <font color=\"blue\">עִירֹ֔ו</font> וְלַשֹּׂרֵקָ֖ה בְּנִ֣י אֲתֹנֹ֑ו כִּבֵּ֤ס בַּיַּ֙יִן֙ לְבֻשֹׁ֔ו וּבְדַם־עֲנָבִ֖ים <font color=\"brown\">סוּתֹה</font> <font color=\"blue\">סוּתֹֽו׃</font> \n",
            "\n",
            "on line  2613 look for  exo|37|8|כְּרוּב־אֶחָ֤ד מִקָּצָה֙ מִזֶּ֔ה וּכְרוּב־אֶחָ֥ד מִקָּצָ֖ה מִזֶּ֑ה מִן־הַכַּפֹּ֛רֶת עָשָׂ֥ה אֶת־הַכְּרֻבִ֖ים מִשְּׁנֵ֥י <font color=\"brown\">קִצְוֹותֹו</font> <font color=\"blue\">קְצֹותָֽיו׃</font> \n",
            "\n",
            "on line  4023 look for  num|10|34|וַעֲנַ֧ן יְהוָ֛ה עֲלֵיהֶ֖ם יֹומָ֑ם בְּנָסְעָ֖ם מִן־הַֽמַּחֲנֶֽה׃ <font color=\"red\"><sup>8</font></sup> \n",
            "\n",
            "on line  4025 look for  num|10|36|וּבְנֻחֹ֖ה יֹאמַ֑ר שׁוּבָ֣ה יְהוָ֔ה רִֽבְבֹ֖ות אַלְפֵ֥י יִשְׂרָאֵֽל׃ <font color=\"red\"><sup>8</font></sup> \n",
            "\n",
            "on line  5065 look for  deu|5|10|וְעֹ֤֥שֶׂה חֶ֖֙סֶד֙ לַֽאֲלָפִ֑֔ים לְאֹהֲבַ֖י וּלְשֹׁמְרֵ֥י <font color=\"brown\">מִצְוֹתֹו</font> <font color=\"blue\">מִצְוֹתָֽי׃</font> \n",
            "\n",
            "on line  5492 look for  deu|22|20|וְאִם־אֱמֶ֣ת הָיָ֔ה הַדָּבָ֖ר הַזֶּ֑ה לֹא־נִמְצְא֥וּ בְתוּלִ֖ים <font color=\"brown\">לַנַּעַר</font> <font color=\"blue\">לַֽנַּעֲרָֽה׃</font> \n",
            "\n",
            "on line  6140 look for  jos|12|8|בָּהָ֣ר וּבַשְּׁפֵלָ֗ה וּבָֽעֲרָבָה֙ וּבָ֣אֲשֵׁדֹ֔ות וּבַמִּדְבָּ֖ר וּבַנֶּ֑גֶב הַֽחִתִּי֙ הָֽאֱמֹרִ֔י וְהַֽכְּנַעֲנִי֙ הַפְּרִזִּ֔י הַחִוִּ֖י וְהַיְבוּסִֽי׃ ף<font color=\"red\"><sup>3</font></sup> \n",
            "\n",
            "on line  6717 look for  jdg|7|21|וַיַּֽעַמְדוּ֙ אִ֣ישׁ תַּחְתָּ֔יו סָבִ֖יב לַֽמַּחֲנֶ֑ה וַיָּ֧רָץ כָּל־הַֽמַּחֲנֶ֛ה וַיָּרִ֖יעוּ <font color=\"brown\">וַיָּנִיסוּ</font> <font color=\"blue\">וַיָּנֽוּסוּ׃</font> \n",
            "\n",
            "on line  6868 look for  jdg|11|37|וַתֹּ֙אמֶר֙ אֶל־אָבִ֔יהָ יֵעָ֥שֶׂה לִּ֖י הַדָּבָ֣ר הַזֶּ֑ה הַרְפֵּ֨ה מִמֶּ֜נִּי שְׁנַ֣יִם חֳדָשִׁ֗ים וְאֵֽלְכָה֙ וְיָרַדְתִּ֣י עַל־הֶֽהָרִ֔ים וְאֶבְכֶּה֙ עַל־בְּתוּלַ֔י אָנֹכִ֖י <font color=\"brown\">וְרַעִיתִי</font> <font color=\"blue\">וְרֵעֹותָֽי׃</font> \n",
            "\n",
            "on line  6972 look for  jdg|16|21|וַיֹּאחֲז֣וּהוּ פְלִשְׁתִּ֔ים וַֽיְנַקְּר֖וּ אֶת־עֵינָ֑יו וַיֹּורִ֨ידוּ אֹותֹ֜ו עַזָּ֗תָה וַיַּאַסְר֙וּהוּ֙ בַּֽנְחֻשְׁתַּ֔יִם וַיְהִ֥י טֹוחֵ֖ן בְּבֵ֥ית <font color=\"brown\">הָאֲסִירִים</font> <font color=\"blue\">הָאֲסוּרִֽים׃</font> \n",
            "\n",
            "on line  7245 look for  sa1|5|9|וַיְהִ֞י אַחֲרֵ֣י׀ הֵסַ֣בּוּ אֹתֹ֗ו וַתְּהִ֨י יַד־יְהוָ֤ה׀ בָּעִיר֙ מְהוּמָה֙ גְּדֹולָ֣ה מְאֹ֔ד וַיַּךְ֙ אֶת־אַנְשֵׁ֣י הָעִ֔יר מִקָּטֹ֖ן וְעַד־גָּדֹ֑ול וַיִּשָּׂתְר֥וּ לָהֶ֖ם <font color=\"brown\">עֳפָלִים</font> <font color=\"blue\">טְחֹרִֽים׃</font> \n",
            "\n",
            "on line  7641 look for  sa1|19|18|וְדָוִ֨ד בָּרַ֜ח וַיִּמָּלֵ֗ט וַיָּבֹ֤א אֶל־שְׁמוּאֵל֙ הָרָמָ֔תָה וַיַּ֨גֶּד־לֹ֔ו אֵ֛ת כָּל־אֲשֶׁ֥ר עָֽשָׂה־לֹ֖ו שָׁא֑וּל וַיֵּ֤לֶךְ הוּא֙ וּשְׁמוּאֵ֔ל וַיֵּשְׁב֖וּ <font color=\"brown\">בְּנֹוִית</font> <font color=\"blue\">בְּנָֽיֹות׃</font> \n",
            "\n",
            "on line  7701 look for  sa1|21|12|וַיֹּ֨אמְר֜וּ עַבְדֵ֤י אָכִישׁ֙ אֵלָ֔יו הֲלֹוא־זֶ֥ה דָוִ֖ד מֶ֣לֶךְ הָאָ֑רֶץ הֲלֹ֣וא לָזֶ֗ה יַעֲנ֤וּ בַמְּחֹלֹות֙ לֵאמֹ֔ר הִכָּ֤ה שָׁאוּל֙ <font color=\"brown\">בַּאֲלָפֹו</font> <font color=\"blue\">בַּאֲלָפָ֔יו</font> וְדָוִ֖ד <font color=\"brown\">בְּרִבְבֹתֹו</font> <font color=\"blue\">בְּרִבְבֹתָֽיו׃</font> \n",
            "\n",
            "on line  7782 look for  sa1|25|3|וְשֵׁ֤ם הָאִישׁ֙ נָבָ֔ל וְשֵׁ֥ם אִשְׁתֹּ֖ו אֲבִגָ֑יִל וְהָאִשָּׁ֤ה טֹֽובַת־שֶׂ֙כֶל֙ וִ֣יפַת תֹּ֔אַר וְהָאִ֥ישׁ קָשֶׁ֛ה וְרַ֥ע מַעֲלָלִ֖ים וְה֥וּא <font color=\"brown\">כָלֶבֹו</font> <font color=\"blue\">כָלִבִּֽי׃</font> \n",
            "\n",
            "on line  7828 look for  sa1|26|5|וַיָּ֣קָם דָּוִ֗ד וַיָּבֹא֮ אֶֽל־הַמָּקֹום֮ אֲשֶׁ֣ר חָנָה־שָׁ֣ם שָׁאוּל֒ וַיַּ֣רְא דָּוִ֗ד אֶת־הַמָּקֹום֙ אֲשֶׁ֣ר שָֽׁכַב־שָׁ֣ם שָׁא֔וּל וְאַבְנֵ֥ר בֶּן־נֵ֖ר שַׂר־צְבָאֹ֑ו וְשָׁאוּל֙ שֹׁכֵ֣ב בַּמַּעְגָּ֔ל וְהָעָ֖ם חֹנִ֥ים <font color=\"brown\">סְבִיבֹתֹו</font> <font color=\"blue\">סְבִיבֹתָֽיו׃</font> \n",
            "\n",
            "on line  7830 look for  sa1|26|7|וַיָּבֹא֩ דָוִ֨ד וַאֲבִישַׁ֥י׀ אֶל־הָעָם֮ לַיְלָה֒ וְהִנֵּ֣ה שָׁא֗וּל שֹׁכֵ֤ב יָשֵׁן֙ בַּמַּעְגָּ֔ל וַחֲנִיתֹ֥ו מְעוּכָֽה־בָאָ֖רֶץ <font color=\"brown\">מְרַאֲשֹׁתֹו</font> <font color=\"blue\">מְרַאֲשֹׁתָ֑יו</font> וְאַבְנֵ֣ר וְהָעָ֔ם שֹׁכְבִ֖ים <font color=\"brown\">סְבִיבֹתֹו</font> <font color=\"blue\">סְבִיבֹתָֽיו׃</font> \n",
            "\n",
            "on line  7839 look for  sa1|26|16|לֹא־טֹ֞וב הַדָּבָ֣ר הַזֶּה֮ אֲשֶׁ֣ר עָשִׂיתָ֒ חַי־יְהוָ֗ה כִּ֤י בְנֵי־מָ֙וֶת֙ אַתֶּ֔ם אֲשֶׁ֧ר לֹֽא־שְׁמַרְתֶּ֛ם עַל־אֲדֹנֵיכֶ֖ם עַל־מְשִׁ֣יחַ יְהוָ֑ה וְעַתָּ֣ה׀ רְאֵ֗ה אֵֽי־חֲנִ֥ית הַמֶּ֛לֶךְ וְאֶת־צַפַּ֥חַת הַמַּ֖יִם אֲשֶׁ֥ר <font color=\"brown\">מְרַאֲשֹׁתֹו</font> <font color=\"blue\">מְרַאֲשֹׁתָֽיו׃</font> \n",
            "\n",
            "on line  7890 look for  sa1|29|5|הֲלֹוא־זֶ֣ה דָוִ֔ד אֲשֶׁ֧ר יַעֲנוּ־לֹ֛ו בַּמְּחֹלֹ֖ות לֵאמֹ֑ר הִכָּ֤ה שָׁאוּל֙ בַּֽאֲלָפָ֔יו וְדָוִ֖ד <font color=\"brown\">בְּרִבְבֹתֹו</font> <font color=\"blue\">בְּרִבְבֹתָֽיו׃</font> \n",
            "\n",
            "on line  8014 look for  sa2|3|15|וַיִּשְׁלַח֙ אִ֣ישׁ בֹּ֔שֶׁת וַיִּקָּחֶ֖הָ מֵ֣עִֽם אִ֑ישׁ מֵעִ֖ם פַּלְטִיאֵ֥ל בֶּן־ <font color=\"brown\">לוּשׁ</font> <font color=\"blue\">לָֽיִשׁ׃</font> \n",
            "\n",
            "on line  8130 look for  sa2|8|3|וַיַּ֣ךְ דָּוִ֔ד אֶת־הֲדַדְעֶ֥זֶר בֶּן־רְחֹ֖ב מֶ֣לֶךְ צֹובָ֑ה בְּלֶכְתֹּ֕ו לְהָשִׁ֥יב יָדֹ֖ו בִּֽנְהַר־ <font color=\"blue\">פְּרָֽת<font color=\"red\"><sup>a</font></sup>׃</font> \n",
            "\n",
            "on line  8296 look for  sa2|14|22|וַיִּפֹּל֩ יֹואָ֨ב אֶל־פָּנָ֥יו אַ֛רְצָה וַיִּשְׁתַּ֖חוּ וַיְבָ֣רֶךְ אֶת־הַמֶּ֑לֶךְ וַיֹּ֣אמֶר יֹואָ֡ב הַיֹּום֩ יָדַ֨ע עַבְדְּךָ֜ כִּי־מָצָ֨אתִי חֵ֤ן בְּעֵינֶ֙יךָ֙ אֲדֹנִ֣י הַמֶּ֔לֶךְ אֲשֶׁר־עָשָׂ֥ה הַמֶּ֖לֶךְ אֶת־דְּבַ֥ר <font color=\"brown\">עַבְדֹּו</font> <font color=\"blue\">עַבְדֶּֽךָ׃</font> \n",
            "\n",
            "on line  8399 look for  sa2|18|3|וַיֹּ֨אמֶר הָעָ֜ם לֹ֣א תֵצֵ֗א כִּי֩ אִם־נֹ֨ס נָנ֜וּס לֹא־יָשִׂ֧ימוּ אֵלֵ֣ינוּ לֵ֗ב וְאִם־יָמֻ֤תוּ חֶצְיֵ֙נוּ֙ לֹֽא־יָשִׂ֤ימוּ אֵלֵ֙ינוּ֙ לֵ֔ב כִּֽי־עַתָּ֥ה כָמֹ֖נוּ עֲשָׂרָ֣ה אֲלָפִ֑ים וְעַתָּ֣ה טֹ֔וב כִּי־תִֽהְיֶה־לָּ֥נוּ מֵעִ֖יר <font color=\"brown\">לַעְזִיר</font> <font color=\"blue\">לַעְזֹֽור׃</font> \n",
            "\n",
            "on line  8413 look for  sa2|18|17|וַיִּקְח֣וּ אֶת־אַבְשָׁלֹ֗ום וַיַּשְׁלִ֨יכוּ אֹתֹ֤ו בַיַּ֙עַר֙ אֶל־הַפַּ֣חַת הַגָּדֹ֔ול וַיַּצִּ֧בוּ עָלָ֛יו גַּל־אֲבָנִ֖ים גָּדֹ֣ול מְאֹ֑ד וְכָל־יִשְׂרָאֵ֔ל נָ֖סוּ אִ֥ישׁ <font color=\"brown\">לְאֹהֵלֹו</font> <font color=\"blue\">לְאֹהָלָֽיו׃</font> \n",
            "\n",
            "on line  8460 look for  sa2|19|32|וּבַרְזִלַּי֙ הַגִּלְעָדִ֔י יָרַ֖ד מֵרֹגְלִ֑ים וַיַּעֲבֹ֤ר אֶת־הַמֶּ֙לֶךְ֙ הַיַּרְדֵּ֔ן לְשַׁלְּחֹ֖ו אֶת־ <font color=\"brown\">בַיַּרְדֵּן</font> <font color=\"blue\">הַיַּרְדֵּֽן׃</font> \n",
            "\n",
            "on line  8535 look for  sa2|22|15|וַיִּשְׁלַ֥ח חִצִּ֖ים וַיְפִיצֵ֑ם בָּרָ֖ק <font color=\"brown\">וַיְּהֻמֵּם</font> <font color=\"blue\">וַיָּהֹֽם׃</font> \n",
            "\n",
            "on line  8553 look for  sa2|22|33|הָאֵ֥ל מָעוּזִּ֖י חָ֑יִל וַיַּתֵּ֥ר תָּמִ֖ים <font color=\"brown\">דַּרְכֹּו</font> <font color=\"blue\">דַּרְכִּֽי׃</font> \n",
            "\n",
            "on line  8571 look for  sa2|22|51|<font color=\"brown\">מִגְדִיל</font> <font color=\"blue\">מִגְדֹּ֖ול</font> יְשׁוּעֹ֣ות מַלְכֹּ֑ו וְעֹֽשֶׂה־חֶ֧סֶד לִמְשִׁיחֹ֛ו לְדָוִ֥ד וּלְזַרְעֹ֖ו עַד־עֹולָֽם׃ ף<font color=\"red\"><sup>3</font></sup> \n",
            "\n",
            "on line  8579 look for  sa2|23|8|אֵ֛לֶּה שְׁמֹ֥ות הַגִּבֹּרִ֖ים אֲשֶׁ֣ר לְדָוִ֑ד יֹשֵׁ֨ב בַּשֶּׁ֜בֶת תַּחְכְּמֹנִ֣י׀ רֹ֣אשׁ הַשָּׁלִשִׁ֗י ה֚וּא עֲדִינֹ֣ו <font color=\"brown\">הָעֶצְנֹו</font> <font color=\"blue\">הָֽעֶצְנִ֔י</font> עַל־שְׁמֹנֶ֥ה מֵאֹ֛ות חָלָ֖ל בְּפַ֥עַם <font color=\"brown\">אֶחָד</font> <font color=\"blue\">אֶחָֽת׃</font> \n",
            "\n",
            "on line  8799 look for  kg1|5|17|אַתָּ֨ה יָדַ֜עְתָּ אֶת־דָּוִ֣ד אָבִ֗י כִּ֣י לֹ֤א יָכֹל֙ לִבְנֹ֣ות בַּ֗יִת לְשֵׁם֙ יְהוָ֣ה אֱלֹהָ֔יו מִפְּנֵ֥י הַמִּלְחָמָ֖ה אֲשֶׁ֣ר סְבָבֻ֑הוּ עַ֤ד תֵּת־יְהוָה֙ אֹתָ֔ם תַּ֖חַת כַּפֹּ֥ות <font color=\"brown\">רַגְלֹו</font> <font color=\"blue\">רַגְלָֽי׃</font> \n",
            "\n",
            "on line  9301 look for  kg1|18|42|וַיַּעֲלֶ֥ה אַחְאָ֖ב לֶאֱכֹ֣ל וְלִשְׁתֹּ֑ות וְאֵ֨לִיָּ֜הוּ עָלָ֨ה אֶל־רֹ֤אשׁ הַכַּרְמֶל֙ וַיִּגְהַ֣ר אַ֔רְצָה וַיָּ֥שֶׂם פָּנָ֖יו בֵּ֥ין <font color=\"brown\">בְּרָכֹו</font> <font color=\"blue\">בִּרְכָּֽיו׃</font> \n",
            "\n",
            "on line  9527 look for  kg2|4|5|וַתֵּ֙לֶךְ֙ מֵֽאִתֹּ֔ו וַתִּסְגֹּ֣ר הַדֶּ֔לֶת בַּעֲדָ֖הּ וּבְעַ֣ד בָּנֶ֑יהָ הֵ֛ם מַגִּשִׁ֥ים אֵלֶ֖יהָ וְהִ֥יא <font color=\"brown\">מֵיצָקֶת</font> <font color=\"blue\">מֹוצָֽקֶת׃</font> \n",
            "\n",
            "on line  9768 look for  kg2|11|20|וַיִּשְׂמַ֥ח כָּל־עַם־הָאָ֖רֶץ וְהָעִ֣יר שָׁקָ֑טָה וְאֶת־עֲתַלְיָ֛הוּ הֵמִ֥יתוּ בַחֶ֖רֶב בֵּ֥ית <font color=\"brown\">מֶלֶךְ</font> <font color=\"blue\">הַמֶּֽלֶךְ׃</font> \n",
            "\n",
            "on line  9821 look for  kg2|14|6|וְאֶת־בְּנֵ֥י הַמַּכִּ֖ים לֹ֣א הֵמִ֑ית כַּכָּת֣וּב בְּסֵ֣פֶר תֹּֽורַת־מֹ֠שֶׁה אֲשֶׁר־צִוָּ֨ה יְהוָ֜ה לֵאמֹ֗ר לֹא־יוּמְת֨וּ אָבֹ֤ות עַל־בָּנִים֙ וּבָנִים֙ לֹא־יוּמְת֣וּ עַל־אָבֹ֔ות כִּ֛י אִם־אִ֥ישׁ בְּחֶטְאֹ֖ו <font color=\"brown\">יָמוּת</font> <font color=\"blue\">יוּמָֽת׃</font> \n",
            "\n",
            "on line  9827 look for  kg2|14|12|וַיִּנָּ֥גֶף יְהוּדָ֖ה לִפְנֵ֣י יִשְׂרָאֵ֑ל וַיָּנֻ֖סוּ אִ֥ישׁ <font color=\"brown\">לְאָהֳלֹו</font> <font color=\"blue\">לְאֹהָלָֽיו׃</font> \n",
            "\n",
            "on line  9933 look for  kg2|17|31|וְהָעַוִּ֛ים עָשׂ֥וּ נִבְחַ֖ז וְאֶת־תַּרְתָּ֑ק וְהַסְפַרְוִ֗ים שֹׂרְפִ֤ים אֶת־בְּנֵיהֶם֙ בָּאֵ֔שׁ לְאַדְרַמֶּ֥לֶךְ וַֽעֲנַמֶּ֖לֶךְ <font color=\"brown\">אֱלֹהַּ</font> <font color=\"blue\">אֱלֹהֵ֥י</font> <font color=\"brown\">סְפַרִים</font> <font color=\"blue\">סְפַרְוָֽיִם׃</font> \n",
            "\n",
            "on line  10439 look for  isa|13|16|וְעֹלְלֵיהֶ֥ם יְרֻטְּשׁ֖וּ לְעֵֽינֵיהֶ֑ם יִשַּׁ֙סּוּ֙ בָּֽתֵּיהֶ֔ם וּנְשֵׁיהֶ֖ם <font color=\"brown\">תִּשָּׁגַלְנָה</font> <font color=\"blue\">תִּשָּׁכַֽבְנָה׃</font> \n",
            "\n",
            "on line  10667 look for  isa|26|20|לֵ֤ךְ עַמִּי֙ בֹּ֣א בַחֲדָרֶ֔יךָ וּֽסְגֹ֥ר <font color=\"brown\">דְּלָתֶיךָ</font> <font color=\"blue\">דְּלָתְךָ֖</font> בַּעֲדֶ֑ךָ חֲבִ֥י כִמְעַט־רֶ֖גַע עַד־ <font color=\"brown\">יַעֲבֹור</font> <font color=\"blue\">יַעֲבָר־זָֽעַם׃</font> \n",
            "\n",
            "on line  10766 look for  isa|30|32|וְהָיָ֗ה כֹּ֤ל מַֽעֲבַר֙ מַטֵּ֣ה מֽוּסָדָ֔ה אֲשֶׁ֨ר יָנִ֤יחַ יְהוָה֙ עָלָ֔יו בְּתֻפִּ֖ים וּבְכִנֹּרֹ֑ות וּבְמִלְחֲמֹ֥ות תְּנוּפָ֖ה נִלְחַם־ <font color=\"brown\">בָּהּ</font> <font color=\"blue\">בָּֽם׃</font> \n",
            "\n",
            "on line  11074 look for  isa|44|24|כֹּֽה־אָמַ֤ר יְהוָה֙ גֹּאֲלֶ֔ךָ וְיֹצֶרְךָ֖ מִבָּ֑טֶן אָנֹכִ֤י יְהוָה֙ עֹ֣שֶׂה כֹּ֔ל נֹטֶ֤ה שָׁמַ֙יִם֙ לְבַדִּ֔י רֹקַ֥ע הָאָ֖רֶץ <font color=\"brown\">מִי</font> <font color=\"brown\">אִתִּי</font> <font color=\"blue\">מֵאִתִּֽי׃</font> \n",
            "\n",
            "on line  11420 look for  isa|65|7|עֲ֠וֹנֹתֵיכֶם וַעֲוֹנֹ֨ת אֲבֹותֵיכֶ֤ם יַחְדָּו֙ אָמַ֣ר יְהוָ֔ה אֲשֶׁ֤ר קִטְּרוּ֙ עַל־הֶ֣הָרִ֔ים וְעַל־הַגְּבָעֹ֖ות חֵרְפ֑וּנִי וּמַדֹּתִ֧י פְעֻלָּתָ֛ם רִֽאשֹׁנָ֖ה <font color=\"brown\">עַל־</font> <font color=\"blue\">אֶל־חֵיקָֽם׃</font> \n",
            "\n",
            "on line  11537 look for  jer|3|19|וְאָנֹכִ֣י אָמַ֗רְתִּי אֵ֚יךְ אֲשִׁיתֵ֣ךְ בַּבָּנִ֔ים וְאֶתֶּן־לָךְ֙ אֶ֣רֶץ חֶמְדָּ֔ה נַחֲלַ֥ת צְבִ֖י צִבְאֹ֣ות גֹּויִ֑ם וָאֹמַ֗ר אָבִי֙ <font color=\"brown\">תִּקְרְאוּ־</font> <font color=\"blue\">תִּקְרְאִי־לִ֔י</font> וּמֵאַחֲרַ֖י לֹ֥א <font color=\"brown\">תָשׁוּבוּ</font> <font color=\"blue\">תָשֽׁוּבִי׃</font> \n",
            "\n",
            "on line  11580 look for  jer|5|6|עַל־כֵּן֩ הִכָּ֨ם אַרְיֵ֜ה מִיַּ֗עַר זְאֵ֤ב עֲרָבֹות֙ יְשָׁדְדֵ֔ם נָמֵ֤ר שֹׁקֵד֙ עַל־עָ֣רֵיהֶ֔ם כָּל־הַיֹּוצֵ֥א מֵהֵ֖נָּה יִטָּרֵ֑ף כִּ֤י רַבּוּ֙ פִּשְׁעֵיהֶ֔ם עָצְמ֖וּ <font color=\"brown\">מְשֻׁבֹותֵיהֶם</font> <font color=\"blue\">מְשׁוּבֹותֵיהֶֽם<font color=\"red\"><sup>3</font></sup>׃</font> \n",
            "\n",
            "on line  11626 look for  jer|6|21|לָכֵ֗ן כֹּ֚ה אָמַ֣ר יְהוָ֔ה הִנְנִ֥י נֹתֵ֛ן אֶל־הָעָ֥ם הַזֶּ֖ה מִכְשֹׁלִ֑ים וְכָ֣שְׁלוּ בָ֠ם אָבֹ֨ות וּבָנִ֥ים יַחְדָּ֛ו שָׁכֵ֥ן וְרֵעֹ֖ו <font color=\"brown\">יֹאבֵדוּ</font> <font color=\"blue\">וְאָבָֽדוּ׃</font> \n",
            "\n",
            "on line  11968 look for  jer|21|12|בֵּ֣ית דָּוִ֗ד כֹּ֚ה אָמַ֣ר יְהוָ֔ה דִּ֤ינוּ לַבֹּ֙קֶר֙ מִשְׁפָּ֔ט וְהַצִּ֥ילוּ גָז֖וּל מִיַּ֣ד עֹושֵׁ֑ק פֶּן־תֵּצֵ֨א כָאֵ֜שׁ חֲמָתִ֗י וּבָעֲרָה֙ וְאֵ֣ין מְכַבֶּ֔ה מִפְּנֵ֖י רֹ֥עַ <font color=\"brown\">מַעַלְלֵיהֶם</font> <font color=\"blue\">מַעַלְלֵיכֶֽם׃</font> \n",
            "\n",
            "on line  11976 look for  jer|22|6|כִּֽי־כֹ֣ה׀ אָמַ֣ר יְהוָ֗ה עַל־בֵּית֙ מֶ֣לֶךְ יְהוּדָ֔ה גִּלְעָ֥ד אַתָּ֛ה לִ֖י רֹ֣אשׁ הַלְּבָנֹ֑ון אִם־לֹ֤א אֲשִֽׁיתְךָ֙ מִדְבָּ֔ר עָרִ֖ים לֹ֥א <font color=\"brown\">נֹושָׁבָה</font> <font color=\"blue\">נֹושָֽׁבוּ׃</font> \n",
            "\n",
            "on line  12394 look for  jer|37|4|וְיִרְמְיָ֕הוּ בָּ֥א וְיֹצֵ֖א בְּתֹ֣וךְ הָעָ֑ם וְלֹֽא־נָתְנ֥וּ אֹתֹ֖ו בֵּ֥ית <font color=\"brown\">הַכְּלִיא</font> <font color=\"blue\">הַכְּלֽוּא׃</font> \n",
            "\n",
            "on line  12600 look for  jer|48|4|נִשְׁבְּרָ֖ה מֹואָ֑ב הִשְׁמִ֥יעוּ זְּעָקָ֖ה <font color=\"brown\">צְעֹורֶיהָ</font> <font color=\"blue\">צְעִירֶֽיהָ׃</font> \n",
            "\n",
            "on line  12603 look for  jer|48|7|כִּ֠י יַ֣עַן בִּטְחֵ֤ךְ בְּמַעֲשַׂ֙יִךְ֙ וּבְאֹ֣וצְרֹותַ֔יִךְ גַּם־אַ֖תְּ תִּלָּכֵ֑דִי וְיָצָ֤א <font color=\"brown\">כְמִישׁ</font> <font color=\"blue\">כְמֹושׁ֙</font> בַּגֹּולָ֔ה כֹּהֲנָ֥יו וְשָׂרָ֖יו <font color=\"brown\">יַחַד</font> <font color=\"blue\">יַחְדָּֽיו׃</font> \n",
            "\n",
            "on line  12617 look for  jer|48|21|וּמִשְׁפָּ֥ט בָּ֖א אֶל־אֶ֣רֶץ הַמִּישֹׁ֑ר אֶל־חֹלֹ֥ון וְאֶל־יַ֖הְצָה וְעַל־ <font color=\"brown\">מֹופָעַת</font> <font color=\"blue\">מֵיפָֽעַת׃</font> \n",
            "\n",
            "on line  12679 look for  jer|49|36|וְהֵבֵאתִ֨י אֶל־עֵילָ֜ם אַרְבַּ֣ע רוּחֹ֗ות מֵֽאַרְבַּע֙ קְצֹ֣ות הַשָּׁמַ֔יִם וְזֵ֣רִתִ֔ים לְכֹ֖ל הָרֻחֹ֣ות הָאֵ֑לֶּה וְלֹֽא־יִהְיֶ֣ה הַגֹּ֔וי אֲשֶׁ֛ר לֹֽא־יָבֹ֥וא שָׁ֖ם נִדְּחֵ֥י <font color=\"brown\">עֹולָם</font> <font color=\"blue\">עֵילָֽם׃</font> \n",
            "\n",
            "on line  12762 look for  jer|51|34|<font color=\"brown\">אֲכָלָנוּ</font> <font color=\"blue\">אֲכָלַ֣נִי</font> <font color=\"brown\">הֲמָמָנוּ</font> <font color=\"blue\">הֲמָמַ֗נִי</font> נְבוּכַדְרֶאצַּר֮ מֶ֣לֶךְ בָּבֶל֒ <font color=\"brown\">הִצִּיגָנוּ</font> <font color=\"blue\">הִצִּיגַ֙נִי֙</font> כְּלִ֣י רִ֔יק <font color=\"brown\">בְּלָעָנוּ</font> <font color=\"blue\">בְּלָעַ֙נִי֙</font> כַּתַּנִּ֔ין מִלָּ֥א כְרֵשֹׂ֖ו מֵֽעֲדָנָ֑י <font color=\"brown\">הֱדִיחָנוּ</font> <font color=\"blue\">הֱדִיחָֽנִי׃</font> \n",
            "\n",
            "on line  12823 look for  jer|52|31|וַיְהִי֩ בִשְׁלֹשִׁ֨ים וָשֶׁ֜בַע שָׁנָ֗ה לְגָלוּת֙ יְהֹויָכִ֣ן מֶֽלֶךְ־יְהוּדָ֔ה בִּשְׁנֵי֤ם עָשָׂר֙ חֹ֔דֶשׁ בְּעֶשְׂרִ֥ים וַחֲמִשָּׁ֖ה לַחֹ֑דֶשׁ נָשָׂ֡א אֱוִ֣יל מְרֹדַךְ֩ מֶ֨לֶךְ בָּבֶ֜ל בִּשְׁנַ֣ת מַלְכֻתֹ֗ו אֶת־רֹאשׁ֙ יְהֹויָכִ֣ין מֶֽלֶךְ־יְהוּדָ֔ה וַיֹּצֵ֥א אֹותֹ֖ו מִבֵּ֥ית <font color=\"brown\">הַכְּלִיא</font> <font color=\"blue\">הַכְּלֽוּא׃</font> \n",
            "\n",
            "on line  12960 look for  eze|7|21|וּנְתַתִּ֤יו בְּיַֽד־הַזָּרִים֙ לָבַ֔ז וּלְרִשְׁעֵ֥י הָאָ֖רֶץ לְשָׁלָ֑ל <font color=\"brown\">וְחִלְּלֻהָ</font> <font color=\"blue\">וְחִלְּלֽוּהוּ׃</font> \n",
            "\n",
            "on line  13144 look for  eze|16|20|וַתִּקְחִ֞י אֶת־בָּנַ֤יִךְ וְאֶת־בְּנֹותַ֙יִךְ֙ אֲשֶׁ֣ר יָלַ֣דְתְּ לִ֔י וַתִּזְבָּחִ֥ים לָהֶ֖ם לֶאֱכֹ֑ול הַמְעַ֖ט <font color=\"brown\">מִתַּזְנֻתֵךְ</font> <font color=\"blue\">מִתַּזְנוּתָֽיִךְ׃</font> \n",
            "\n",
            "on line  13149 look for  eze|16|25|אֶל־כָּל־רֹ֣אשׁ דֶּ֗רֶךְ בָּנִית֙ רָֽמָתֵ֔ךְ וַתְּתַֽעֲבִי֙ אֶת־יָפְיֵ֔ךְ וַתְּפַשְּׂקִ֥י אֶת־רַגְלַ֖יִךְ לְכָל־עֹובֵ֑ר וַתַּרְבִּ֖י אֶת־ <font color=\"brown\">תַּזְנֻתֵךְ</font> <font color=\"blue\">תַּזְנוּתָֽיִךְ׃</font> \n",
            "\n",
            "on line  13175 look for  eze|16|51|וְשֹׁ֣מְרֹ֔ון כַּחֲצִ֥י חַטֹּאתַ֖יִךְ לֹ֣א חָטָ֑אָה וַתַּרְבִּ֤י אֶת־תֹּועֲבֹותַ֙יִךְ֙ מֵהֵ֔נָּה וַתְּצַדְּקִי֙ אֶת־ <font color=\"brown\">אֲחֹותֵךְ</font> <font color=\"blue\">אֲחֹותַ֔יִךְ</font> בְּכָל־תֹּועֲבֹותַ֖יִךְ אֲשֶׁ֥ר <font color=\"brown\">עָשִׂיתי</font> <font color=\"blue\">עָשִֽׂית׃</font> \n",
            "\n",
            "on line  13454 look for  eze|25|9|לָכֵן֩ הִנְנִ֨י פֹתֵ֜חַ אֶת־כֶּ֤תֶף מֹואָב֙ מֵהֶ֣עָרִ֔ים מֵֽעָרָ֖יו מִקָּצֵ֑הוּ צְבִ֗י אֶ֚רֶץ בֵּ֣ית הַיְשִׁימֹ֔ת בַּ֥עַל מְעֹ֖ון <font color=\"brown\">וְקִרְיָתְמָה</font> <font color=\"blue\">וְקִרְיָתָֽיְמָה׃</font> \n",
            "\n",
            "on line  13489 look for  eze|27|6|אַלֹּונִים֙ מִבָּ֔שָׁן עָשׂ֖וּ מִשֹּׁוטָ֑יִךְ קַרְשֵׁ֤ךְ עָֽשׂוּ־שֵׁן֙ בַּת־אֲשֻׁרִ֔ים מֵאִיֵּ֖י <font color=\"brown\">כִּתִּיִּם</font> <font color=\"blue\">כִּתִּיִּֽים׃</font> \n",
            "\n",
            "on line  13775 look for  eze|37|16|וְאַתָּ֣ה בֶן־אָדָ֗ם קַח־לְךָ֙ עֵ֣ץ אֶחָ֔ד וּכְתֹ֤ב עָלָיו֙ לִֽיהוּדָ֔ה וְלִבְנֵ֥י יִשְׂרָאֵ֖ל <font color=\"brown\">חֲבֵרֹו</font> <font color=\"blue\">חֲבֵרָ֑יו</font> וּלְקַח֙ עֵ֣ץ אֶחָ֔ד וּכְתֹ֣וב עָלָ֗יו לְיֹוסֵף֙ עֵ֣ץ אֶפְרַ֔יִם וְכָל־בֵּ֥ית יִשְׂרָאֵ֖ל <font color=\"brown\">חֲבֵרֹו</font> <font color=\"blue\">חֲבֵרָֽיו׃</font> \n",
            "\n",
            "on line  13865 look for  eze|40|26|וּמַעֲלֹ֤ות שִׁבְעָה֙ <font color=\"brown\">עֹלֹותֹו</font> <font color=\"blue\">עֹֽלֹותָ֔יו</font> <font color=\"brown\">וְאֵלַמֹּו</font> <font color=\"blue\">וְאֵֽלַמָּ֖יו</font> לִפְנֵיהֶ֑ם וְתִמֹרִ֣ים לֹ֗ו אֶחָ֥ד מִפֹּ֛ו וְאֶחָ֥ד מִפֹּ֖ו אֶל־ <font color=\"brown\">אֵילֹו</font> <font color=\"blue\">אֵילָֽיו׃</font> \n",
            "\n",
            "on line  13870 look for  eze|40|31|וְאֵלַמָּ֗ו<font color=\"red\"><sup>q</font></sup> אֶל־חָצֵר֙ הַחִ֣צֹונָ֔ה וְתִמֹרִ֖ים אֶל־ <font color=\"brown\">אֵילֹו</font> <font color=\"blue\">אֵילָ֑יו</font> וּמַעֲלֹ֥ות שְׁמֹונֶ֖ה <font color=\"brown\">מַעֲלֹו</font> <font color=\"blue\">מַעֲלָֽיו׃</font> \n",
            "\n",
            "on line  13873 look for  eze|40|34|<font color=\"brown\">וְאֵלַמֹּו</font> <font color=\"blue\">וְאֵלַמָּ֗יו</font> לֶֽחָצֵר֙ הַחִ֣יצֹונָ֔ה וְתִמֹרִ֥ים אֶל־ <font color=\"brown\">אֵלֹו</font> <font color=\"blue\">אֵלָ֖יו</font> מִפֹּ֣ו וּמִפֹּ֑ו וּשְׁמֹנֶ֥ה מַעֲלֹ֖ות <font color=\"brown\">מַעֲלֹו</font> <font color=\"blue\">מַעֲלָֽיו׃</font> \n",
            "\n",
            "on line  13876 look for  eze|40|37|<font color=\"brown\">וְאֵילֹו</font> <font color=\"blue\">וְאֵילָ֗יו</font> לֶֽחָצֵר֙ הַחִ֣יצֹונָ֔ה וְתִמֹרִ֥ים אֶל־ <font color=\"brown\">אֵילֹו</font> <font color=\"blue\">אֵילָ֖יו</font> מִפֹּ֣ו וּמִפֹּ֑ו וּשְׁמֹנֶ֥ה מַעֲלֹ֖ות <font color=\"brown\">מַעֲלֹו</font> <font color=\"blue\">מַעֲלָֽיו׃</font> \n",
            "\n",
            "on line  13960 look for  eze|43|26|שִׁבְעַ֣ת יָמִ֗ים יְכַפְּרוּ֙ אֶת־הַמִּזְבֵּ֔חַ וְטִֽהֲר֖וּ אֹתֹ֑ו וּמִלְא֖וּ <font color=\"brown\">יָדֹו</font> <font color=\"blue\">יָדָֽיו׃</font> \n",
            "\n",
            "on line  14026 look for  eze|46|9|וּבְבֹ֨וא עַם־הָאָ֜רֶץ לִפְנֵ֣י יְהוָה֮ בַּמֹּֽועֲדִים֒ הַבָּ֡א דֶּרֶךְ־שַׁ֨עַר צָפֹ֜ון לְהִֽשְׁתַּחֲוֹ֗ת יֵצֵא֙ דֶּרֶךְ־שַׁ֣עַר נֶ֔גֶב וְהַבָּא֙ דֶּרֶךְ־שַׁ֣עַר נֶ֔גֶב יֵצֵ֖א דֶּרֶךְ־שַׁ֣עַר צָפֹ֑ונָה לֹ֣א יָשׁ֗וּב דֶּ֤רֶךְ הַשַּׁ֙עַר֙ אֲשֶׁר־בָּ֣א בֹ֔ו כִּ֥י נִכְחֹ֖ו <font color=\"brown\">יֵצְאוּ</font> <font color=\"blue\">יֵצֵֽא׃</font> \n",
            "\n",
            "on line  14079 look for  eze|48|15|וַחֲמֵ֨שֶׁת אֲלָפִ֜ים הַנֹּותָ֣ר בָּרֹ֗חַב עַל־פְּנֵ֨י חֲמִשָּׁ֤ה וְעֶשְׂרִים֙ אֶ֔לֶף חֹֽל־ה֣וּא לָעִ֔יר לְמֹושָׁ֖ב וּלְמִגְרָ֑שׁ וְהָיְתָ֥ה הָעִ֖יר <font color=\"brown\">בְּתֹוכֹה</font> <font color=\"blue\">בְּתֹוכֹֽו׃</font> \n",
            "\n",
            "on line  14085 look for  eze|48|21|וְהַנֹּותָ֣ר לַנָּשִׂ֣יא מִזֶּ֣ה׀ וּמִזֶּ֣ה׀ לִתְרֽוּמַת־הַקֹּ֣דֶשׁ וְלַאֲחֻזַּ֪ת הָעִ֟יר אֶל־פְּנֵ֣י חֲמִשָּׁה֩ וְעֶשְׂרִ֨ים אֶ֥לֶף׀ תְּרוּמָה֮ עַד־גְּב֣וּל קָדִימָה֒ וְיָ֗מָּה עַל־פְּ֠נֵי חֲמִשָּׁ֨ה וְעֶשְׂרִ֥ים אֶ֙לֶף֙ עַל־גְּב֣וּל יָ֔מָּה לְעֻמַּ֥ת חֲלָקִ֖ים לַנָּשִׂ֑יא וְהָֽיְתָה֙ תְּרוּמַ֣ת הַקֹּ֔דֶשׁ וּמִקְדַּ֥שׁ הַבַּ֖יִת <font color=\"brown\">בְּתֹוכֹה</font> <font color=\"blue\">בְּתֹוכֹֽו׃</font> \n",
            "\n",
            "on line  14240 look for  hos|10|10|בְּאַוָּתִ֖י וְאֶסֳּרֵ֑ם וְאֻסְּפ֤וּ עֲלֵיהֶם֙ עַמִּ֔ים בְּאָסְרָ֖ם לִשְׁתֵּ֥י <font color=\"brown\">עֵינֹתָם</font> <font color=\"blue\">עֹונֹתָֽם׃</font> \n",
            "\n",
            "on line  14490 look for  amo|8|4|שִׁמְעוּ־זֹ֕את הַשֹּׁאֲפִ֖ים אֶבְיֹ֑ון וְלַשְׁבִּ֖ית <font color=\"brown\">עַנְוֵי־</font> <font color=\"blue\">עֲנִיֵּי־אָֽרֶץ׃</font> \n",
            "\n",
            "on line  14594 look for  mic|1|10|בְּגַת֙ אַל־תַּגִּ֔ידוּ בָּכֹ֖ו אַל־תִּבְכּ֑וּ בְּבֵ֣ית לְעַפְרָ֔ה עָפָ֖ר <font color=\"brown\">הִתְפַּלָּשְׁתִּי</font> <font color=\"blue\">הִתְפַּלָּֽשִׁי׃</font> \n",
            "\n",
            "on line  14817 look for  zep|2|7|וְהָ֣יָה חֶ֗בֶל לִשְׁאֵרִ֛ית בֵּ֥ית יְהוּדָ֖ה עֲלֵיהֶ֣ם יִרְע֑וּן בְּבָתֵּ֣י אַשְׁקְלֹ֗ון בָּעֶ֙רֶב֙ יִרְבָּצ֔וּן כִּ֧י יִפְקְדֵ֛ם יְהוָ֥ה אֱלֹהֵיהֶ֖ם וְשָׁ֥ב <font color=\"brown\">שְׁבוּתָם</font> <font color=\"blue\">שְׁבִיתָֽם׃</font> \n",
            "\n",
            "on line  15035 look for  zac|11|2|הֵילֵ֤ל בְּרֹושׁ֙ כִּֽי־נָ֣פַל אֶ֔רֶז אֲשֶׁ֥ר אַדִּרִ֖ים שֻׁדָּ֑דוּ הֵילִ֙ילוּ֙ אַלֹּונֵ֣י בָשָׁ֔ן כִּ֥י יָרַ֖ד יַ֥עַר <font color=\"brown\">הַבָּצוּר</font> <font color=\"blue\">הַבָּצִֽיר׃</font> \n",
            "\n",
            "on line  15079 look for  zac|14|6|וְהָיָ֖ה בַּיֹּ֣ום הַה֑וּא לֹֽא־יִהְיֶ֣ה אֹ֔ור יְקָרֹ֖ות <font color=\"brown\">יִקְפְּאוּן</font> <font color=\"blue\">וְקִפָּאֹֽון׃</font> \n",
            "\n",
            "on line  15250 look for  psa|9|13|כִּֽי־דֹרֵ֣שׁ דָּ֭מִים אֹותָ֣ם זָכָ֑ר לֹֽאשָ֝־כַ֗ח צַעֲקַ֥ת <font color=\"brown\">עֲנִיִּים</font> <font color=\"blue\">עֲנָוִֽים׃</font> \n",
            "\n",
            "on line  15268 look for  psa|10|10|<font color=\"brown\">וַדָּכַה</font> <font color=\"blue\">יִדְכֶּ֥ה</font> יָשֹׁ֑חַ וְנָפַ֥ל בַּ֝עֲצוּמָ֗יו <font color=\"brown\">חֶלְכָּאִים</font> <font color=\"blue\">חֵ֣יל</font> <font color=\"blue\">כָּאִֽים׃</font> \n",
            "\n",
            "on line  15270 look for  psa|10|12|קוּמָ֤ה יְהוָ֗ה אֵ֭ל נְשָׂ֣א יָדֶ֑ךָ אַל־תִּשְׁכַּ֥ח <font color=\"brown\">עֲנִיִּים</font> <font color=\"blue\">עֲנָוִֽים׃</font> \n",
            "\n",
            "on line  15546 look for  psa|30|4|יְֽהוָ֗ה הֶֽעֱלִ֣יתָ מִן־שְׁאֹ֣ול נַפְשִׁ֑י חִ֝יִּיתַ֗נִי <font color=\"brown\">מִיֹּורְדֵי־</font> <font color=\"blue\">מִיָּֽרְדִי־בֹֽור׃</font> \n",
            "\n",
            "on line  15738 look for  psa|38|21|וּמְשַׁלְּמֵ֣י רָ֭עָה תַּ֣חַת טֹובָ֑ה יִ֝שְׂטְנ֗וּנִי תַּ֣חַת <font color=\"brown\">רְדֹופִי־</font> <font color=\"blue\">רָֽדְפִי־טֹֽוב׃</font> \n",
            "\n",
            "on line  16064 look for  psa|60|7|לְ֭מַעַן יֵחָלְצ֣וּן יְדִידֶ֑יךָ הֹושִׁ֖יעָה יְמִֽינְךָ֣ <font color=\"brown\">וַעֲנֵנוּ</font> <font color=\"blue\">וַעֲנֵֽנִי׃</font> \n",
            "\n",
            "on line  16249 look for  psa|71|12|אֱ֭לֹהִים אַל־תִּרְחַ֣ק מִמֶּ֑נִּי אֱ֝לֹהַ֗י לְעֶזְרָ֥תִי <font color=\"brown\">חִישָׁה</font> <font color=\"blue\">חֽוּשָׁה׃</font> \n",
            "\n",
            "on line  16907 look for  psa|105|28|שָׁ֣לַֽח חֹ֭שֶׁךְ וַיַּחְשִׁ֑ךְ וְלֹֽא־מָ֝ר֗וּ אֶת־ <font color=\"brown\">דְּבָרָוו<font color=\"red\"><sup>1</font></sup></font> <font color=\"blue\">דְּבָרֹֽו׃</font> \n",
            "\n",
            "on line  16969 look for  psa|106|45|וַיִּזְכֹּ֣ר לָהֶ֣ם בְּרִיתֹ֑ו וַ֝יִּנָּחֵ֗ם כְּרֹ֣ב <font color=\"brown\">חַסְדֹּו</font> <font color=\"blue\">חֲסָדָֽיו׃</font> \n",
            "\n",
            "on line  16992 look for  psa|107|20|יִשְׁלַ֣ח דְּ֭בָרֹו וְיִרְפָּאֵ֑ם וִֽ֝ימַלֵּ֗ט מִשְּׁחִיתֹותָֽם׃ <font color=\"red\"><sup>8</font></sup> \n",
            "\n",
            "on line  16993 look for  psa|107|21|יֹוד֣וּ לַיהוָ֣ה חַסְדֹּ֑ו וְ֝נִפְלְאֹותָ֗יו לִבְנֵ֥י אָדָֽם׃ <font color=\"red\"><sup>8</font></sup> \n",
            "\n",
            "on line  16994 look for  psa|107|22|וְ֭יִזְבְּחוּ זִבְחֵ֣י תֹודָ֑ה וִֽיסַפְּר֖וּ מַעֲשָׂ֣יו בְּרִנָּֽה׃ <font color=\"red\"><sup>8</font></sup> \n",
            "\n",
            "on line  16995 look for  psa|107|23|יֹורְדֵ֣י הַ֭יָּם בָּאֳנִיֹּ֑ות עֹשֵׂ֥י מְ֝לָאכָ֗ה בְּמַ֣יִם רַבִּֽים׃ <font color=\"red\"><sup>8</font></sup> \n",
            "\n",
            "on line  16996 look for  psa|107|24|הֵ֣מָּה רָ֭אוּ מַעֲשֵׂ֣י יְהוָ֑ה וְ֝נִפְלְאֹותָ֗יו בִּמְצוּלָֽה׃ <font color=\"red\"><sup>8</font></sup> \n",
            "\n",
            "on line  16997 look for  psa|107|25|וַיֹּ֗אמֶר וַֽ֭יַּעֲמֵד ר֣וּחַ סְעָרָ֑ה וַתְּרֹומֵ֥ם גַּלָּֽיו׃ <font color=\"red\"><sup>8</font></sup> \n",
            "\n",
            "on line  17011 look for  psa|107|39|וַיִּמְעֲט֥וּ וַיָּשֹׁ֑חוּ מֵעֹ֖צֶר רָעָ֣ה וְיָגֹֽון׃ <font color=\"red\"><sup>8</font></sup> \n",
            "\n",
            "on line  17409 look for  psa|129|3|עַל־גַּ֭בִּי חָרְשׁ֣וּ חֹרְשִׁ֑ים הֶ֝אֱרִ֗יכוּ <font color=\"brown\">לְמַעֲנֹותָם</font> <font color=\"blue\">לְמַעֲנִיתָֽם׃</font> \n",
            "\n",
            "on line  17547 look for  psa|140|10|רֹ֥אשׁ מְסִבָּ֑י עֲמַ֖ל שְׂפָתֵ֣ימֹו <font color=\"brown\">יְכַסּוּמֹו</font> <font color=\"blue\">יְכַסֵּֽמֹו<font color=\"red\"><sup>3</font></sup>׃</font> \n",
            "\n",
            "on line  17649 look for  psa|148|2|הַֽלְל֥וּהוּ כָל־מַלְאָכָ֑יו הַֽ֝לְל֗וּהוּ כָּל־ <font color=\"brown\">צְבָאֹו</font> <font color=\"blue\">צְבָאָֽיו׃</font> \n",
            "\n",
            "on line  17782 look for  pro|4|16|כִּ֤י לֹ֣א יִֽ֭שְׁנוּ אִם־לֹ֣א יָרֵ֑עוּ וְֽנִגְזְלָ֥ה נָתָ֗ם אִם־לֹ֥א <font color=\"brown\">יִכְשֹׁולוּ</font> <font color=\"blue\">יַכְשִֽׁילוּ׃</font> \n",
            "\n",
            "on line  17967 look for  pro|11|3|תֻּמַּ֣ת יְשָׁרִ֣ים תַּנְחֵ֑ם וְסֶ֖לֶף בֹּוגְדִ֣ים <font color=\"brown\">וְשַׁדָּם</font> <font color=\"blue\">יְשָׁדֵּֽם׃</font> \n",
            "\n",
            "on line  18208 look for  pro|19|7|כָּ֥ל אֲחֵי־רָ֨שׁ׀ שְֽׂנֵאֻ֗הוּ אַ֤ף כִּ֣י מְ֭רֵעֵהוּ רָחֲק֣וּ מִמֶּ֑נּוּ מְרַדֵּ֖ף אֲמָרִ֣ים <font color=\"brown\">לֹא־</font> <font color=\"blue\">לֹו־הֵֽמָּה׃</font> \n",
            "\n",
            "on line  18217 look for  pro|19|16|שֹׁמֵ֣ר מִ֭צְוָה שֹׁמֵ֣ר נַפְשֹׁ֑ו בֹּוזֵ֖ה דְרָכָ֣יו <font color=\"brown\">יוּמָת</font> <font color=\"blue\">יָמֽוּת׃</font> \n",
            "\n",
            "on line  18289 look for  pro|21|29|הֵעֵ֬ז אִ֣ישׁ רָשָׁ֣ע בְּפָנָ֑יו וְ֝יָשָׁ֗ר ה֤וּא׀ <font color=\"brown\">יָכִין</font> <font color=\"blue\">יָבִ֬ין</font> <font color=\"brown\">דְּרָכָיו</font> <font color=\"blue\">דַּרְכֹּֽו׃</font> \n",
            "\n",
            "on line  18305 look for  pro|22|14|שׁוּחָ֣ה עֲ֭מֻקָּה פִּ֣י זָרֹ֑ות זְע֥וּם יְ֝הוָ֗ה <font color=\"brown\">יִפֹּול־</font> <font color=\"blue\">יִפָּל־שָֽׁם׃</font> \n",
            "\n",
            "on line  18344 look for  pro|23|24|<font color=\"brown\">גֹּול</font> <font color=\"blue\">גִּ֣יל</font> <font color=\"brown\">יָגֹול</font> <font color=\"blue\">יָ֭גִיל</font> אֲבִ֣י צַדִּ֑יק <font color=\"brown\">יֹולֵד</font> <font color=\"blue\">וְיֹולֵ֥ד</font> חָ֝כָ֗ם <font color=\"brown\">וְיִשְׂמַח־</font> <font color=\"blue\">יִשְׂמַח־בֹּֽו׃</font> \n",
            "\n",
            "on line  18346 look for  pro|23|26|תְּנָֽה־בְנִ֣י לִבְּךָ֣ לִ֑י וְ֝עֵינֶ֗יךָ דְּרָכַ֥י <font color=\"brown\">תִּרְצֶנָה</font> <font color=\"blue\">תִּצֹּֽרְנָה<font color=\"red\"><sup>a</font></sup>׃</font> \n",
            "\n",
            "on line  18469 look for  pro|27|24|כִּ֤י לֹ֣א לְעֹולָ֣ם חֹ֑סֶן וְאִם־נֵ֝֗זֶר לְדֹ֣ור <font color=\"brown\">דֹור</font> <font color=\"blue\">וָדֹֽור׃</font> \n",
            "\n",
            "on line  19048 look for  job|19|29|גּ֤וּרוּ לָכֶ֨ם׀ מִפְּנֵי־חֶ֗רֶב כִּֽי־חֵ֭מָה עֲוֹנֹ֣ות חָ֑רֶב לְמַ֖עַן תֵּדְע֣וּן <font color=\"brown\">שַׁדִּין</font> <font color=\"blue\">שַׁדּֽוּן׃</font> \n",
            "\n",
            "on line  19301 look for  job|30|22|תִּשָּׂאֵ֣נִי אֶל־ר֖וּחַ תַּרְכִּיבֵ֑נִי וּ֝תְמֹגְגֵ֗נִי <font color=\"brown\">תְּשֻׁוֶּה</font> <font color=\"blue\">תּוּשִׁיָּֽה׃</font> \n",
            "\n",
            "on line  19655 look for  job|42|11|וַיָּבֹ֣אוּ אֵ֠לָיו כָּל־אֶחָ֨יו וְכָל־ <font color=\"brown\">אַחְיֹתָיו</font> <font color=\"blue\">אַחְיֹותָ֜יו</font> וְכָל־יֹדְעָ֣יו לְפָנִ֗ים וַיֹּאכְל֨וּ עִמֹּ֣ו לֶחֶם֮ בְּבֵיתֹו֒ וַיָּנֻ֤דוּ לֹו֙ וַיְנַחֲמ֣וּ אֹתֹ֔ו עַ֚ל כָּל־הָ֣רָעָ֔ה אֲשֶׁר־הֵבִ֥יא יְהוָ֖ה עָלָ֑יו וַיִּתְּנוּ־לֹ֗ו אִ֚ישׁ קְשִׂיטָ֣ה אֶחָ֔ת וְאִ֕ישׁ נֶ֥זֶם זָהָ֖ב אֶחָֽד׃ ס<font color=\"red\"><sup>3</font></sup> \n",
            "\n",
            "on line  19939 look for  lam|3|32|כִּ֣י אִם־הֹוגָ֔ה וְרִחַ֖ם כְּרֹ֥ב <font color=\"brown\">חַסְדֹּו</font> <font color=\"blue\">חֲסָדָֽיו׃</font> \n",
            "\n",
            "on line  19946 look for  lam|3|39|מַה־יִּתְאֹונֵן֙ אָדָ֣ם חָ֔י גֶּ֖בֶר עַל־ <font color=\"brown\">חֶטְאֹו</font> <font color=\"blue\">חֲטָאָֽיו׃</font> \n",
            "\n",
            "on line  20361 look for  est|8|7|וַיֹּ֨אמֶר הַמֶּ֤לֶךְ אֲחַשְׁוֵרֹשׁ֙ לְאֶסְתֵּ֣ר הַמַּלְכָּ֔ה וּֽלְמָרְדֳּכַ֖י הַיְּהוּדִ֑י הִנֵּ֨ה בֵית־הָמָ֜ן נָתַ֣תִּי לְאֶסְתֵּ֗ר וְאֹתֹו֙ תָּל֣וּ עַל־הָעֵ֔ץ עַ֛ל אֲשֶׁר־שָׁלַ֥ח יָדֹ֖ו <font color=\"brown\">בַּיְּהוּדִיִּים</font> <font color=\"blue\">בַּיְּהוּדִֽים׃</font> \n",
            "\n",
            "on line  20523 look for  dan|4|14|בִּגְזֵרַ֤ת עִירִין֙ פִּתְגָמָ֔א וּמֵאמַ֥ר קַדִּישִׁ֖ין שְׁאֵֽלְתָ֑א עַד־דִּבְרַ֡ת דִּ֣י יִנְדְּע֣וּן חַ֠יַּיָּא דִּֽי־שַׁלִּ֨יט <font color=\"brown\">עִלָּיָא</font> <font color=\"blue\">עִלָּאָ֜ה</font> בְּמַלְכ֣וּת <font color=\"brown\">אֱנֹושָׁא</font> <font color=\"blue\">אֲנָשָׁ֗א<font color=\"red\"><sup>y</font></sup></font> וּלְמַן־דִּ֤י יִצְבֵּא֙ יִתְּנִנַּ֔הּ וּשְׁפַ֥ל אֲנָשִׁ֖ים יְקִ֥ים <font color=\"brown\">עֲלַיַּהּ</font> <font color=\"blue\">עֲלַֽהּ׃</font> \n",
            "\n",
            "on line  20525 look for  dan|4|16|אֱדַ֨יִן דָּֽנִיֵּ֜אל דִּֽי־שְׁמֵ֣הּ בֵּלְטְשַׁאצַּ֗ר אֶשְׁתֹּומַם֙ כְּשָׁעָ֣ה חֲדָ֔ה וְרַעְיֹנֹ֖הִי יְבַהֲלֻנֵּ֑הּ עָנֵ֨ה מַלְכָּ֜א וְאָמַ֗ר בֵּלְטְשַׁאצַּר֙ חֶלְמָ֤א וּפִשְׁרֵא֙ אַֽל־יְבַהֲלָ֔ךְ עָנֵ֤ה בֵלְטְשַׁאצַּר֙ וְאָמַ֔ר <font color=\"brown\">מָרְאִי</font> <font color=\"blue\">מָרִ֕י</font> חֶלְמָ֥א <font color=\"brown\">לְשָׂנְאַיִךְ</font> <font color=\"blue\">לְשָֽׂנְאָ֖ךְ</font> וּפִשְׁרֵ֥הּ <font color=\"brown\">לְעָרַיִךְ</font> <font color=\"blue\">לְעָרָֽךְ<font color=\"red\"><sup>3</font></sup>׃</font> \n",
            "\n",
            "on line  20564 look for  dan|5|21|וּמִן־בְּנֵי֩ אֲנָשָׁ֨א טְרִ֜יד וְלִבְבֵ֣הּ׀ עִם־חֵיוְתָ֣א <font color=\"brown\">שְׁוִי</font> <font color=\"blue\">שַׁוִּ֗יְו<font color=\"red\"><sup>1</font></sup></font> וְעִם־עֲרָֽדַיָּא֙ מְדֹורֵ֔הּ עִשְׂבָּ֤א כְתֹורִין֙ יְטַ֣עֲמוּנֵּ֔הּ וּמִטַּ֥ל שְׁמַיָּ֖א גִּשְׁמֵ֣הּ יִצְטַבַּ֑ע עַ֣ד דִּֽי־יְדַ֗ע דִּֽי־שַׁלִּ֞יט אֱלָהָ֤א <font color=\"brown\">עִלָּיָא</font> <font color=\"blue\">עִלָּאָה֙<font color=\"red\"><sup>3</font></sup></font> בְּמַלְכ֣וּת אֲנָשָׁ֔א וּלְמַן־דִּ֥י יִצְבֵּ֖ה יְהָקֵ֥ים <font color=\"brown\">עֲלַיֵהּ</font> <font color=\"blue\">עֲלַֽהּ׃</font> \n",
            "\n",
            "on line  20573 look for  dan|5|30|בֵּ֚הּ בְּלֵ֣ילְיָ֔א קְטִ֕יל בֵּלְאשַׁצַּ֖ר מַלְכָּ֥א <font color=\"brown\">כַשְׂדָּיָא</font> <font color=\"blue\">כַשְׂדָּאָֽה׃</font> \n",
            "\n",
            "on line  20602 look for  dan|6|29|וְדָנִיֵּ֣אל דְּנָ֔ה הַצְלַ֖ח בְּמַלְכ֣וּת דָּרְיָ֑וֶשׁ וּבְמַלְכ֖וּת כֹּ֥ורֶשׁ <font color=\"brown\">פָּרְסָיָא</font> <font color=\"blue\">פָּרְסָאָֽה׃</font> \n",
            "\n",
            "on line  20715 look for  dan|11|10|<font color=\"brown\">וּבְנֹו</font> <font color=\"blue\">וּבָנָ֣יו</font> יִתְגָּר֗וּ וְאָסְפוּ֙ הֲמֹון֙ חֲיָלִ֣ים רַבִּ֔ים וּבָ֥א בֹ֖וא וְשָׁטַ֣ף וְעָבָ֑ר וְיָשֹׁ֥ב <font color=\"brown\">וְיִתְגָּרוּ</font> <font color=\"blue\">וְיִתְגָּרֶ֖ה</font> עַד־ <font color=\"brown\">מָעֻזָּה</font> <font color=\"blue\">מָעֻזֹּֽו׃</font> \n",
            "\n",
            "on line  20824 look for  ezr|2|50|בְּנֵי־אַסְנָ֥ה בְנֵי־ <font color=\"brown\">מְעִינִים</font> <font color=\"blue\">מְעוּנִ֖ים</font> בְּנֵ֥י <font color=\"brown\">נְפִיסִים</font> <font color=\"blue\">נְפוּסִֽים׃</font> \n",
            "\n",
            "on line  21028 look for  ezr|10|29|וּמִבְּנֵ֖י בָּנִ֑י מְשֻׁלָּ֤ם מַלּוּךְ֙ וַעֲדָיָ֔ה יָשׁ֖וּב וּשְׁאָ֥ל <font color=\"brown\">יְרֵמֹות</font> <font color=\"blue\">וְרָמֹֽות׃</font> \n",
            "\n",
            "on line  21034 look for  ezr|10|35|בְּנָיָ֥ה בֵדְיָ֖ה <font color=\"brown\">כְּלָהַי</font> <font color=\"blue\">כְּלֽוּהוּ׃</font> \n",
            "\n",
            "on line  21036 look for  ezr|10|37|מַתַּנְיָ֥ה מַתְּנַ֖י <font color=\"brown\">וְיַעֲשֹׂו</font> <font color=\"blue\">וְיַעֲשָֽׂי׃</font> \n",
            "\n",
            "on line  21156 look for  neh|6|8|וָאֶשְׁלְחָ֤ה אֵלָיו֙ לֵאמֹ֔ר לֹ֤א נִֽהְיָה֙ כַּדְּבָרִ֣ים הָאֵ֔לֶּה אֲשֶׁ֖ר אַתָּ֣ה אֹומֵ֑ר כִּ֥י מִֽלִּבְּךָ֖ אַתָּ֥ה בֹודָֽאם<font color=\"red\"><sup>1</font></sup> \n",
            "\n",
            "on line  21219 look for  neh|7|52|בְּנֵי־בֵסַ֥י בְּנֵי־מְעוּנִ֖ים בְּנֵ֥י <font color=\"brown\">נְפוּשְׁסִים</font> <font color=\"blue\">נְפִֽישְׁסִֽים׃</font> \n",
            "\n",
            "on line  21314 look for  neh|10|20|חָרִ֥יף עֲנָתֹ֖ות <font color=\"brown\">נֹובָי</font> <font color=\"blue\">נֵיבָֽי׃</font> \n",
            "\n",
            "on line  21351 look for  neh|11|17|וּמַתַּנְיָ֣ה בֶן־מִ֠יכָה בֶּן־זַבְדִּ֨י בֶן־אָסָ֜ף רֹ֗אשׁ הַתְּחִלָּה֙ יְהֹודֶ֣ה לַתְּפִלָּ֔ה וּבַקְבֻּקְיָ֖ה מִשְׁנֶ֣ה מֵאֶחָ֑יו וְעַבְדָּא֙ בֶּן־שַׁמּ֔וּעַ בֶּן־גָּלָ֖ל בֶּן־ <font color=\"brown\">יְדִיתוּן</font> <font color=\"blue\">יְדוּתֽוּן׃</font> \n",
            "\n",
            "on line  21494 look for  ch1|1|46|וַיָּ֖מָת חוּשָׁ֑ם וַיִּמְלֹ֨ךְ תַּחְתָּ֜יו הֲדַ֣ד בֶּן־בְּדַ֗ד הַמַּכֶּ֤ה אֶת־מִדְיָן֙ בִּשְׂדֵ֣ה מֹואָ֔ב וְשֵׁ֥ם עִירֹ֖ו <font color=\"brown\">עֲיֹות</font> <font color=\"blue\">עֲוִֽית׃</font> \n",
            "\n",
            "on line  21762 look for  ch1|7|31|וּבְנֵ֣י בְרִיעָ֔ה חֶ֖בֶר וּמַלְכִּיאֵ֑ל ה֖וּא אֲבִ֥י <font color=\"brown\">בִרְזֹות</font> <font color=\"blue\">בִרְזָֽיִת׃</font> \n",
            "\n",
            "on line  21922 look for  ch1|12|6|אֶלְעוּזַ֤י וִירִימֹות֙ וּבְעַלְיָ֣ה וּשְׁמַרְיָ֔הוּ וּשְׁפַטְיָ֖הוּ <font color=\"brown\">הַחֲרִיפִי</font> <font color=\"blue\">הַחֲרוּפִֽי׃</font> \n",
            "\n",
            "on line  22236 look for  ch1|24|24|בְּנֵ֤י עֻזִּיאֵל֙ מִיכָ֔ה לִבְנֵ֥י מִיכָ֖ה <font color=\"brown\">שָׁמוּר</font> <font color=\"blue\">שָׁמִֽיר׃</font> \n",
            "\n",
            "line count:  23213\n",
            "verse:  ch2|36|23|\n",
            "lineText:  כֹּה־אָמַ֞ר כֹּ֣ורֶשׁ׀ מֶ֣לֶךְ פָּרַ֗ס כָּל־מַמְלְכֹ֤ות הָאָ֙רֶץ֙ נָ֣תַן לִ֗י יְהוָה֙ אֱלֹהֵ֣י הַשָּׁמַ֔יִם וְהֽוּא־פָקַ֤ד עָלַי֙ לִבְנֹֽות־לֹ֣ו בַ֔יִת בִּירוּשָׁלִַ֖ם אֲשֶׁ֣ר בִּֽיהוּדָ֑ה מִֽי־בָכֶ֣ם מִכָּל־עַמֹּ֗ו יְהוָ֧ה אֱלֹהָ֛יו עִמֹּ֖ו וְיָֽעַל׃\n",
            "code points:  b'\\\\u05db\\\\u05bc\\\\u05b9\\\\u05d4\\\\u05be\\\\u05d0\\\\u05b8\\\\u05de\\\\u05b7\\\\u059e\\\\u05e8 \\\\u05db\\\\u05bc\\\\u05b9\\\\u05a3\\\\u05d5\\\\u05e8\\\\u05b6\\\\u05e9\\\\u05c1\\\\u05c0 \\\\u05de\\\\u05b6\\\\u05a3\\\\u05dc\\\\u05b6\\\\u05da\\\\u05b0 \\\\u05e4\\\\u05bc\\\\u05b8\\\\u05e8\\\\u05b7\\\\u0597\\\\u05e1 \\\\u05db\\\\u05bc\\\\u05b8\\\\u05dc\\\\u05be\\\\u05de\\\\u05b7\\\\u05de\\\\u05b0\\\\u05dc\\\\u05b0\\\\u05db\\\\u05b9\\\\u05a4\\\\u05d5\\\\u05ea \\\\u05d4\\\\u05b8\\\\u05d0\\\\u05b8\\\\u0599\\\\u05e8\\\\u05b6\\\\u05e5\\\\u0599 \\\\u05e0\\\\u05b8\\\\u05a3\\\\u05ea\\\\u05b7\\\\u05df \\\\u05dc\\\\u05b4\\\\u0597\\\\u05d9 \\\\u05d9\\\\u05b0\\\\u05d4\\\\u05d5\\\\u05b8\\\\u05d4\\\\u0599 \\\\u05d0\\\\u05b1\\\\u05dc\\\\u05b9\\\\u05d4\\\\u05b5\\\\u05a3\\\\u05d9 \\\\u05d4\\\\u05b7\\\\u05e9\\\\u05c1\\\\u05bc\\\\u05b8\\\\u05de\\\\u05b7\\\\u0594\\\\u05d9\\\\u05b4\\\\u05dd \\\\u05d5\\\\u05b0\\\\u05d4\\\\u05bd\\\\u05d5\\\\u05bc\\\\u05d0\\\\u05be\\\\u05e4\\\\u05b8\\\\u05e7\\\\u05b7\\\\u05a4\\\\u05d3 \\\\u05e2\\\\u05b8\\\\u05dc\\\\u05b7\\\\u05d9\\\\u0599 \\\\u05dc\\\\u05b4\\\\u05d1\\\\u05b0\\\\u05e0\\\\u05b9\\\\u05bd\\\\u05d5\\\\u05ea\\\\u05be\\\\u05dc\\\\u05b9\\\\u05a3\\\\u05d5 \\\\u05d1\\\\u05b7\\\\u0594\\\\u05d9\\\\u05b4\\\\u05ea \\\\u05d1\\\\u05bc\\\\u05b4\\\\u05d9\\\\u05e8\\\\u05d5\\\\u05bc\\\\u05e9\\\\u05c1\\\\u05b8\\\\u05dc\\\\u05b7\\\\u0596\\\\u05b4\\\\u05dd \\\\u05d0\\\\u05b2\\\\u05e9\\\\u05c1\\\\u05b6\\\\u05a3\\\\u05e8 \\\\u05d1\\\\u05bc\\\\u05b4\\\\u05bd\\\\u05d9\\\\u05d4\\\\u05d5\\\\u05bc\\\\u05d3\\\\u05b8\\\\u0591\\\\u05d4 \\\\u05de\\\\u05b4\\\\u05bd\\\\u05d9\\\\u05be\\\\u05d1\\\\u05b8\\\\u05db\\\\u05b6\\\\u05a3\\\\u05dd \\\\u05de\\\\u05b4\\\\u05db\\\\u05bc\\\\u05b8\\\\u05dc\\\\u05be\\\\u05e2\\\\u05b7\\\\u05de\\\\u05bc\\\\u05b9\\\\u0597\\\\u05d5 \\\\u05d9\\\\u05b0\\\\u05d4\\\\u05d5\\\\u05b8\\\\u05a7\\\\u05d4 \\\\u05d0\\\\u05b1\\\\u05dc\\\\u05b9\\\\u05d4\\\\u05b8\\\\u059b\\\\u05d9\\\\u05d5 \\\\u05e2\\\\u05b4\\\\u05de\\\\u05bc\\\\u05b9\\\\u0596\\\\u05d5 \\\\u05d5\\\\u05b0\\\\u05d9\\\\u05b8\\\\u05bd\\\\u05e2\\\\u05b7\\\\u05dc\\\\u05c3'\n",
            "decoded verse:  כֹּה־אָמַ֞ר כֹּ֣ורֶשׁ׀ מֶ֣לֶךְ פָּרַ֗ס כָּל־מַמְלְכֹ֤ות הָאָ֙רֶץ֙ נָ֣תַן לִ֗י יְהוָה֙ אֱלֹהֵ֣י הַשָּׁמַ֔יִם וְהֽוּא־פָקַ֤ד עָלַי֙ לִבְנֹֽות־לֹ֣ו בַ֔יִת בִּירוּשָׁלִַ֖ם אֲשֶׁ֣ר בִּֽיהוּדָ֑ה מִֽי־בָכֶ֣ם מִכָּל־עַמֹּ֗ו יְהוָ֧ה אֱלֹהָ֛יו עִמֹּ֖ו וְיָֽעַל׃\n",
            "unique chars:  ['֗', 'ס', '֧', '֙', 'מ', '֞', 'ד', 'ל', 'ֵ', 'כ', 'ֱ', 'ש', 'ב', 'ן', 'ק', 'ך', 'פ', 'ַ', '֑', '׃', 'ׁ', '֖', 'ו', 'ת', 'ה', 'ר', 'ֶ', 'ּ', '־', 'ָ', 'ֲ', 'ץ', ' ', 'ע', 'י', 'ם', 'ִ', '׀', 'ְ', 'א', 'ֽ', '֤', 'נ', 'ֹ', '֛', '֔', '֣']\n",
            "number of unique non-Hebrew block chars 35\n",
            "nonHebrewLtrCt:  98212 \n",
            "unique list:  ['116', '111', '117', '115', '57', '53', '52', '102', '98', '47', '51', '49', '54', '60', '100', '99', '119', '121', '114', '108', '8205', '55', '109', '56', '61', '101', '50', '110', '113', '112', '62', '97', '34', '62208', '803']\n",
            "{8201, 12, 8213, 8224, 8226, 16419, 8228, 8235, 49, 8243, 16450, 73, 16459, 8269, 16462, 8272, 8281, 16476, 8285, 8296, 8304, 16500, 16505, 8315, 135, 8327, 16521, 8335, 154, 8346, 16541, 160, 8352, 8354, 8356, 8362, 8367, 179, 183, 8379, 201, 8399, 8404, 8408, 8409, 16603, 8413, 8414, 8416, 227, 229, 16614, 16625, 8435, 16637, 8447, 8448, 16650, 8459, 8460, 16657, 8469, 8477, 8480, 8486, 16686, 8495, 8497, 307, 8502, 8504, 8505, 16698, 8507, 8510, 322, 8514, 8518, 8519, 16714, 8528, 339, 8535, 345, 347, 8543, 354, 8553, 8554, 371, 16760, 8571, 384, 387, 8579, 8580, 8584, 8589, 8591, 8592, 16783, 406, 16790, 8605, 8606, 8607, 8608, 418, 8624, 16817, 434, 8626, 8628, 8632, 8648, 460, 463, 16847, 470, 8662, 474, 8672, 8682, 491, 8701, 16897, 8712, 16907, 8720, 560, 8769, 8775, 16969, 8799, 16992, 16993, 16994, 16995, 16996, 16997, 625, 8819, 628, 8820, 17011, 8824, 8830, 8835, 8836, 8841, 17040, 8852, 17049, 17050, 8872, 682, 8875, 692, 694, 696, 8888, 8897, 709, 722, 17108, 731, 8929, 746, 17138, 757, 8951, 8978, 790, 8987, 9002, 815, 842, 847, 850, 862, 866, 17251, 868, 17259, 9072, 881, 9076, 9081, 9090, 9102, 912, 916, 922, 925, 926, 933, 17319, 944, 946, 9138, 17333, 952, 965, 9161, 17355, 975, 9182, 17374, 992, 9185, 17376, 17377, 17380, 1009, 17393, 17395, 1013, 1016, 1022, 17409, 9220, 1031, 1032, 1033, 9227, 1039, 9235, 1046, 1054, 1055, 9248, 1057, 9249, 9250, 1061, 1065, 1096, 9295, 9301, 9309, 9316, 17512, 9320, 1129, 17519, 1136, 17529, 1146, 17547, 17548, 17550, 1169, 1170, 1174, 9367, 1176, 17559, 9377, 1193, 9390, 9398, 17590, 1208, 17599, 17602, 9411, 1220, 1222, 9427, 1242, 9447, 1259, 9451, 17646, 17649, 9481, 9486, 1298, 17682, 17693, 9504, 9505, 1319, 17703, 9519, 17716, 17717, 9524, 9525, 9527, 9529, 9538, 9545, 17746, 9556, 1365, 17758, 17759, 17761, 17765, 9575, 1385, 9578, 9584, 17782, 9591, 1406, 17792, 9603, 9618, 17817, 17819, 1440, 17829, 9638, 9639, 17830, 9641, 1450, 17832, 17838, 9647, 9651, 9656, 1465, 1471, 9663, 1482, 1484, 1485, 9677, 17873, 9690, 1500, 17890, 9700, 17895, 17897, 17898, 9708, 9712, 9714, 17906, 17913, 1536, 9739, 9749, 9750, 17942, 1560, 9752, 1565, 9757, 9758, 9763, 17957, 1574, 9766, 9767, 9768, 17967, 17968, 9778, 9780, 1604, 9796, 9798, 17991, 17994, 1612, 17996, 1620, 9817, 18009, 9821, 9822, 1633, 9827, 9828, 1643, 9838, 18033, 18034, 18038, 18043, 1662, 9854, 18058, 18061, 9869, 1679, 18069, 18070, 18079, 1696, 9888, 18086, 9897, 9899, 9900, 18097, 9907, 9908, 9915, 9918, 18114, 18115, 9923, 1734, 9926, 18120, 9932, 9933, 18135, 18143, 18144, 9970, 18162, 18163, 18176, 9989, 18187, 18194, 10003, 18196, 10009, 10011, 18205, 18208, 10017, 18212, 10021, 18217, 18220, 10030, 10035, 18228, 18231, 18234, 10050, 18242, 18246, 18249, 18250, 18251, 10064, 18260, 10069, 18271, 1895, 18279, 10094, 18289, 18294, 1915, 18299, 18302, 1919, 18305, 10117, 18311, 10120, 18312, 18316, 10131, 18323, 18325, 18326, 10135, 10136, 10139, 1950, 1955, 18344, 18346, 18349, 10158, 18351, 10160, 18356, 18367, 18372, 18396, 10217, 18413, 18419, 18424, 2046, 10239, 10240, 18436, 18438, 2055, 2056, 2057, 18441, 18442, 2060, 2061, 2062, 18450, 18455, 18460, 18463, 10272, 18465, 18469, 2086, 2092, 10285, 18480, 18488, 2119, 10319, 2141, 2143, 18537, 10349, 18541, 18542, 10353, 18545, 2177, 18561, 18564, 10373, 10380, 18572, 18576, 18578, 10399, 2210, 18595, 18601, 10415, 18611, 18612, 10422, 18620, 10430, 10439, 18635, 10445, 18642, 2260, 10453, 10472, 2284, 18669, 2288, 18674, 18676, 10489, 2301, 18691, 18702, 2320, 2322, 10518, 18710, 18720, 18721, 2338, 18722, 18729, 18731, 18735, 18738, 18741, 18742, 2360, 18752, 18767, 18774, 2395, 18779, 10590, 18786, 10606, 10607, 18803, 2423, 18811, 2430, 18828, 18836, 10645, 2456, 2458, 18843, 18850, 18853, 18856, 10667, 10669, 18866, 2484, 2490, 10696, 18890, 18896, 18898, 18908, 10721, 18916, 2539, 2543, 10739, 2552, 18940, 10749, 18942, 18947, 10759, 10760, 2569, 18956, 10766, 10767, 18960, 2585, 10783, 18976, 10791, 18984, 18986, 2613, 19004, 19024, 19033, 19048, 10859, 2669, 19059, 19063, 10879, 19074, 10889, 2698, 19090, 10899, 10902, 19097, 10907, 2723, 10931, 19123, 19132, 2749, 19141, 10950, 10964, 19159, 19164, 2791, 2798, 10991, 19182, 11006, 19201, 19202, 19203, 11017, 11021, 2833, 19218, 2838, 19223, 19238, 2863, 11059, 2868, 11064, 11067, 11074, 19268, 11080, 11087, 11092, 19290, 19292, 19295, 11107, 11109, 2918, 19301, 11114, 19317, 11129, 19321, 19325, 19330, 11158, 11159, 11160, 19354, 19356, 11166, 2976, 19361, 2982, 11181, 2993, 2995, 19391, 19393, 11203, 19400, 3019, 3020, 11215, 19408, 11218, 19415, 3040, 19426, 19445, 11256, 11257, 19449, 19456, 3073, 11270, 19470, 11280, 11282, 19474, 19479, 11291, 11301, 11305, 19497, 11309, 19503, 11317, 19512, 19516, 19517, 3141, 19527, 19528, 19530, 19535, 11349, 19544, 11359, 3172, 19556, 11367, 11372, 19565, 11374, 19566, 19568, 19581, 19582, 11392, 3201, 19586, 19592, 19596, 19603, 19605, 19606, 3223, 19607, 11417, 11420, 19622, 19628, 19646, 11455, 3269, 19654, 19655, 11467, 11468, 19660, 3283, 11484, 19678, 11496, 11497, 19689, 19691, 11501, 3310, 11505, 11506, 11508, 3319, 19703, 3321, 11514, 3323, 19710, 11520, 11522, 11523, 11524, 11525, 19715, 3337, 11537, 3346, 19733, 3351, 3356, 11548, 19743, 11562, 19759, 11573, 11580, 11581, 19780, 19786, 11598, 11606, 19799, 3416, 19801, 11612, 3431, 11626, 11630, 3441, 11634, 19826, 19827, 19828, 19832, 19835, 19837, 19840, 19845, 19846, 19847, 11657, 19856, 11670, 11675, 11676, 19867, 19869, 19870, 3490, 19874, 19877, 19881, 3500, 19887, 11699, 19899, 3516, 19900, 19904, 3523, 3532, 19917, 19921, 11730, 11734, 19927, 19932, 3553, 19939, 19946, 19976, 19985, 19989, 11798, 19990, 11802, 19994, 19996, 19998, 20000, 20002, 11812, 3621, 11823, 20016, 20026, 11835, 11839, 11840, 11842, 20036, 11847, 3671, 11868, 11881, 11883, 11884, 3693, 11886, 11892, 11896, 11897, 20091, 11903, 20100, 20101, 11910, 3723, 11916, 20108, 20110, 11922, 11923, 3732, 11925, 3734, 20117, 3744, 20129, 11938, 20153, 11965, 11968, 11974, 11976, 11988, 20181, 11993, 3811, 12006, 20198, 20205, 12018, 20215, 20231, 3855, 12049, 12057, 20253, 12063, 20255, 3883, 3891, 12094, 20288, 3906, 3910, 12106, 3919, 20303, 20306, 12132, 12135, 12137, 20343, 20350, 3969, 20355, 12165, 3976, 12169, 20361, 12174, 20367, 3987, 3998, 20383, 20386, 20389, 20390, 4012, 4014, 20398, 20404, 4023, 4025, 20410, 12227, 12228, 20431, 20432, 4050, 20436, 12245, 12246, 12247, 12248, 20437, 20441, 12251, 20445, 4063, 20449, 12260, 4069, 20453, 20456, 20458, 20460, 12270, 20464, 20465, 12274, 20466, 20467, 20468, 20469, 20470, 12282, 20479, 20481, 20483, 20486, 20488, 12299, 20491, 20494, 20495, 20497, 12309, 20501, 20502, 20504, 20505, 20507, 20508, 12317, 20513, 20518, 12328, 20522, 20523, 20524, 20525, 12334, 20528, 4145, 20530, 20531, 20533, 20538, 20540, 20541, 20548, 20549, 20550, 20551, 20553, 20554, 20556, 20557, 20559, 20561, 20562, 20564, 20565, 20566, 20567, 20572, 20573, 20574, 4192, 12394, 20587, 4206, 4207, 20590, 20593, 20594, 20596, 20597, 20599, 4216, 12409, 20600, 20602, 12413, 4222, 20607, 20608, 20609, 20610, 20612, 12422, 12427, 20621, 20622, 20624, 20625, 4242, 20627, 12436, 4253, 4255, 12448, 20641, 12451, 12452, 12455, 12460, 12465, 20662, 12471, 12473, 20669, 20675, 20681, 12490, 12497, 4308, 4311, 12511, 20703, 4324, 20713, 4331, 12523, 12524, 20715, 20717, 12529, 20723, 4354, 20744, 4364, 4371, 4373, 12572, 20771, 20775, 12600, 12601, 12603, 4420, 12614, 12616, 12617, 4430, 12623, 4435, 20820, 20824, 4446, 12640, 20847, 20855, 4474, 20859, 12668, 20861, 12671, 20864, 12673, 20866, 20868, 20869, 12679, 20871, 12682, 4491, 20878, 12688, 20880, 4498, 12690, 4500, 12693, 20882, 20883, 12697, 20890, 20891, 20893, 20896, 20898, 12711, 20904, 20912, 20915, 12726, 12731, 12737, 4546, 12741, 20938, 4561, 20945, 20946, 4565, 12762, 20962, 20964, 20965, 20973, 12793, 20986, 20993, 12803, 21000, 21001, 12813, 21007, 4625, 12817, 21011, 12823, 12824, 12834, 21028, 12837, 21031, 21034, 21036, 21042, 21043, 21044, 21049, 21052, 21055, 21063, 21067, 12879, 12884, 12889, 4698, 12897, 21089, 21094, 12906, 21104, 21105, 4727, 21119, 12928, 21121, 4740, 12941, 4750, 21136, 21138, 4765, 12960, 21156, 12972, 12976, 21168, 21170, 12988, 12989, 12995, 21192, 4822, 4823, 21219, 21228, 13052, 21246, 13056, 13065, 21263, 4880, 21271, 21274, 13086, 13089, 13097, 13101, 13107, 13113, 21314, 13137, 4949, 13142, 13144, 13146, 21339, 13148, 13149, 13155, 4965, 21351, 4973, 13167, 13171, 13175, 13177, 13178, 4989, 13183, 4993, 21378, 21379, 21384, 21386, 13208, 13217, 21409, 21416, 13231, 13232, 21423, 13235, 21427, 21428, 13239, 13240, 5049, 21432, 21440, 21448, 5065, 5067, 21459, 5092, 13284, 21490, 21494, 21499, 21505, 5122, 5124, 13318, 21518, 13329, 13332, 5141, 21537, 5162, 5163, 13356, 21557, 21558, 5191, 13383, 13385, 21581, 21588, 21601, 13411, 13412, 13420, 5235, 21622, 5244, 5245, 13452, 13454, 21669, 5289, 5292, 21676, 13486, 13489, 21685, 13498, 5316, 13508, 13510, 13512, 13522, 13523, 21732, 13549, 21741, 13552, 5373, 21762, 21765, 5384, 5390, 13582, 13597, 13604, 21796, 13610, 5429, 21815, 5438, 13634, 21830, 13641, 13642, 5456, 21844, 21846, 13655, 21849, 13658, 13665, 21864, 13677, 5487, 5488, 5492, 5493, 5495, 5496, 5497, 5498, 5499, 5500, 5501, 21880, 21886, 21889, 5513, 5516, 5519, 13715, 13718, 21913, 21919, 5537, 21922, 13734, 13735, 13736, 21932, 21935, 21940, 21944, 5567, 13775, 13777, 13778, 13779, 21972, 13781, 5590, 5597, 21981, 5624, 22012, 13821, 5634, 5638, 5640, 5643, 13835, 13845, 13848, 13854, 13860, 13861, 13863, 13864, 13865, 22059, 13868, 22061, 13870, 13872, 5681, 5682, 13873, 13875, 5685, 13876, 5704, 13896, 13897, 5707, 5710, 13903, 22097, 13908, 22111, 13923, 13928, 5737, 13930, 5742, 22128, 13945, 5755, 13949, 13950, 13960, 13964, 5773, 13966, 22168, 13985, 22180, 5799, 13995, 13997, 22189, 5814, 5821, 14026, 5837, 14029, 5840, 14032, 14036, 14039, 22236, 14049, 14050, 14051, 14052, 14053, 22244, 14072, 5884, 14078, 14079, 14080, 14082, 14085, 5899, 5911, 22299, 5920, 5930, 14125, 22318, 5937, 14134, 22335, 5954, 5956, 5958, 5960, 5964, 14182, 22377, 5999, 14202, 6015, 14211, 6020, 14217, 14220, 14228, 14229, 14233, 6046, 14240, 22443, 14252, 22454, 6073, 22477, 22478, 6096, 22487, 22497, 14311, 6126, 6140, 22527, 6156, 14349, 22552, 22553, 6175, 22561, 22571, 6198, 22590, 6208, 22629, 6251, 6257, 14457, 6267, 6270, 22664, 22669, 14490, 14494, 6307, 6309, 14504, 6314, 14506, 14509, 6319, 6323, 22710, 14523, 14526, 14532, 14533, 22728, 6345, 14539, 6352, 22747, 14566, 14569, 14570, 6382, 22772, 14587, 22780, 14592, 14594, 6410, 14615, 14620, 14626, 6435, 14627, 6481, 6486, 22874, 6493, 14692, 14697, 6508, 14700, 14704, 22899, 14709, 22901, 14720, 22918, 6538, 6548, 22932, 22936, 22940, 6559, 22950, 22951, 14777, 14779, 14787, 6598, 6612, 22996, 23001, 23002, 14817, 14819, 23016, 14825, 23030, 6661, 14853, 23052, 23063, 23064, 14887, 14893, 23087, 14899, 6709, 14902, 23093, 6716, 6717, 14908, 14909, 14921, 14929, 23121, 23135, 23136, 23139, 23145, 6764, 14959, 6768, 23152, 23155, 14974, 6783, 23166, 23167, 23172, 23178, 14995, 15004, 23204, 15015, 23207, 15035, 6866, 6868, 15075, 15077, 15079, 6903, 15142, 6953, 15150, 15151, 15153, 15157, 6969, 15162, 6972, 6974, 6976, 6977, 6984, 15194, 15196, 15202, 7025, 7029, 7039, 7043, 7047, 7049, 7051, 7058, 15250, 15256, 7069, 15263, 15268, 15269, 15270, 15273, 15277, 15278, 7091, 15305, 7124, 7126, 15320, 15321, 15326, 15332, 15335, 7152, 7160, 7166, 7167, 7173, 15374, 7192, 7195, 15387, 15394, 7211, 15414, 15418, 7227, 15426, 15429, 7242, 7245, 7248, 15442, 7252, 7253, 7260, 15452, 15456, 7267, 15465, 7278, 15470, 15476, 15477, 15478, 7289, 15496, 15497, 15498, 7309, 15520, 7329, 15521, 7334, 7342, 15540, 15546, 7356, 15553, 7368, 7371, 15574, 15575, 7387, 15582, 7410, 7421, 7434, 7452, 7457, 15651, 7470, 15671, 7483, 7493, 15709, 15727, 7542, 15738, 15741, 7558, 7566, 15763, 15765, 15775, 15777, 7594, 7599, 7600, 15793, 7602, 15794, 15795, 15797, 7607, 7615, 15830, 7641, 7642, 15835, 7645, 7646, 7648, 7649, 7671, 7685, 7701, 7703, 15900, 15907, 7718, 7720, 7722, 7723, 7727, 7733, 15933, 7743, 15935, 7753, 15945, 7761, 7765, 15964, 7775, 15970, 7782, 15975, 7797, 15993, 7813, 16008, 16011, 7828, 7830, 7834, 7839, 16034, 16035, 7845, 7852, 7856, 16050, 16055, 7867, 7868, 16064, 16068, 16070, 7890, 16084, 7902, 16095, 7925, 16137, 7948, 7951, 7956, 16166, 7990, 7997, 8001, 8002, 16200, 8011, 16203, 8014, 16208, 8024, 8031, 16241, 8052, 16249, 8058, 16254, 16257, 16262, 16265, 8074, 16278, 16283, 8098, 16291, 16297, 16311, 16315, 16320, 8130, 16326, 16334, 16355, 16357, 8167, 16368, 8178, 16373, 16375, 16376, 8189}\n",
            "12\n"
          ],
          "name": "stdout"
        }
      ]
    },
    {
      "cell_type": "code",
      "metadata": {
        "id": "nxKJwgiN5tzW",
        "outputId": "42559a7c-e3ac-4169-f6b5-75ccbd32bbd1",
        "colab": {
          "base_uri": "https://localhost:8080/"
        }
      },
      "source": [
        "# Build Tanach string without non-Hebrew letters characters\n",
        "# Opening file \n",
        "file1 = open('datafile', 'r') \n",
        "count = 0\n",
        "s = '' # basic Hebrew chars string\n",
        "s2 = '' # non-Hebrew chars string\n",
        "# dataframe for reshaped data\n",
        "# df = pd.dataframe()\n",
        "# loop over file line by line, one verse per line \n",
        "for line in file1: \n",
        "    count += 1\n",
        "    #print(\"Line{}: {}\".format(count, line.strip())) \n",
        "    #print(line[0]) # first character in line\n",
        "    #print(line.rfind('|')) # last index of pipe '|' character\n",
        "    line = (line[line.rfind('|')+1:]).replace('׃','') #remove verse and sof-pasuk colon\n",
        "    line = line.strip() # remove newline char\n",
        "    line = line.replace(\" \", \"\") # remove spaces\n",
        "    for c in line:\n",
        "      if c in {'א', 'ב', 'ג' ,'ד','ה','ו','ז','ח','ט','י','כ','ך','ל','מ','ם','נ','ן','ס','ע','פ','ף','צ','ץ','ק','ר','ש','ת'}:\n",
        "        s += c # concat Hebrew letter to s\n",
        "      else:\n",
        "        s2 += c\n",
        "print (list(set(s))) # get unique chars list\n",
        "print (s[-1]) # print last letter ל\n",
        "# Closing files \n",
        "file1.close()"
      ],
      "execution_count": 9,
      "outputs": [
        {
          "output_type": "stream",
          "text": [
            "['ס', 'מ', 'ד', 'ל', 'ג', 'כ', 'ח', 'ש', 'ב', 'ן', 'ק', 'ך', 'פ', 'ו', 'ת', 'ה', 'ר', 'ץ', 'ע', 'י', 'ם', 'צ', 'ז', 'א', 'נ', 'ט', 'ף']\n",
            "ל\n"
          ],
          "name": "stdout"
        }
      ]
    },
    {
      "cell_type": "code",
      "metadata": {
        "id": "6fPM24OqZUY9"
      },
      "source": [
        "# Pull off els substrings, offset strings = els\n",
        "\n",
        "def findTermIndeces(text, term):\n",
        "  # print('hello from findTermIndeces()')\n",
        "  indxLst = list()\n",
        "  indx = text.find(term) # index of first occurance of term\n",
        "  while indx != -1: # while term is found in text\n",
        "    indxLst.append(indx) # add index of found term to index list\n",
        "    indx = text.find(term,indx+1) # find next occurance of search term after index of prev. find \n",
        "  return indxLst\n",
        "\n",
        "def searchELS(text, term, minELS, maxELS):\n",
        "  # print('hello from searchELS()')\n",
        "  # initially address positive ELS values only\n",
        "  # ternary-operator\n",
        "  minELS = minELS if minELS>0 else 1\n",
        "  foundTermIndeces = list() # empty list to hold indeces of found search term\n",
        "  results = dict()\n",
        "  elsRng = range(minELS, maxELS)\n",
        "  for els in elsRng:\n",
        "    # print('searching ELS = ', els)\n",
        "    # get ELS substring with offset from 0 to els (current els being examined)\n",
        "    # n = ELS substrings required to cover search space\n",
        "    for offset in range(0, els): # get all offsets from 0 to els\n",
        "      shiftedString = text[offset::els] # get offset string\n",
        "      foundTermIndeces = foundTermIndeces + findTermIndeces(shiftedString, term) # append new list of indeces to exisiting built list\n",
        "    if(els>0): # els 0 is non-sensical, open text is els = 1 here\n",
        "      results[els] = foundTermIndeces # add found indeces to dictionary keyed by els\n",
        "    foundTermIndeces = list() # clean out old list\n",
        "  return results\n",
        "# ex:\n",
        "# print(searchELS(s,'עדנה', 0, 17))"
      ],
      "execution_count": 10,
      "outputs": []
    },
    {
      "cell_type": "code",
      "metadata": {
        "id": "yKeqjU-hVT6I",
        "outputId": "aeecaaaf-c0d9-4149-9e37-494f52245374",
        "colab": {
          "base_uri": "https://localhost:8080/"
        }
      },
      "source": [
        "# get user input for search term\n",
        "term1 = input (\"Enter Primary Search Term:\")\n",
        "print(term1)\n"
      ],
      "execution_count": 13,
      "outputs": [
        {
          "output_type": "stream",
          "text": [
            "Enter Primary Search Term:עדנה\n",
            "עדנה\n",
            "{1: [21078, 108600, 574590, 835684, 1019725, 1169894], 2: [537386, 226804, 435273], 3: [381772], 4: [171879, 173530], 5: [49034, 187730, 220698, 6005, 89354, 150583, 2483, 125792, 181036], 6: [105530, 84523, 183031, 107340, 68631, 98099], 7: [70086, 42814], 8: [31961, 103991], 9: [3905, 11181, 22953, 128010, 54879], 10: [85565], 11: [104380, 30806, 85452, 3043, 58358], 12: [16976, 82976], 13: [20181, 45770, 21414, 27347], 14: [41816, 40136, 7700], 15: [21454, 72275, 64447], 16: [29015, 43909, 44132, 30128], 17: [12806, 18167, 14129], 18: [6276, 39172, 32216], 19: [55605, 10812, 22595, 55995], 20: [38973, 24854, 53085, 7863, 23067], 21: [10088], 22: [45864, 1242, 27304, 5534], 23: [8389], 24: [45254, 37382], 25: [45635], 26: [23327], 27: [10489, 39661], 28: [3016, 38236, 41552, 25309, 28788], 29: [30250, 4418, 6413, 30576, 39217, 18859, 1158], 30: [], 31: [26771, 14242, 8244, 27841, 28128, 15785, 2881, 2047], 32: [26995, 17096, 29109, 18843, 30310, 29721, 10337], 33: [9184, 6726, 8401], 34: [9626, 12529], 35: [28601, 28864, 1643], 36: [], 37: [22613, 23430, 2581, 20714, 25294], 38: [9754, 19622, 23255, 12555, 13360, 4788], 39: [8295, 21123, 19646], 40: [4064, 27265, 16559, 2241, 27067, 18427], 41: [14050, 29064, 7737, 27577, 15690, 12568], 42: [24857, 15654, 25703, 22346], 43: [19940, 4979], 44: [22177, 6148], 45: [6318, 23981, 4845], 46: [8005, 19457], 47: [25501, 5168], 48: [12949, 11215, 6840, 12943, 2561], 49: [22646, 13844, 21457, 14262, 7268], 50: [14377, 15161, 14884], 51: [14657, 4232], 52: [3963, 8121, 7172, 3973, 4443, 23112], 53: [22325, 19770, 2972, 20150], 54: [92, 6002, 16812], 55: [2052, 2662, 389, 19713, 17514, 16718], 56: [20344, 1926, 13911, 5442, 3795, 14940], 57: [], 58: [7523, 16374], 59: [15877, 11208], 60: [16073, 5736, 18057, 1570, 8974], 61: [18527], 62: [1670, 15628, 8028], 63: [9477, 14340, 5536, 3378], 64: [3987], 65: [16349, 4253, 11929, 7838], 66: [7687, 10491, 6578, 16612], 67: [16113, 2959, 15798, 14616, 6365], 68: [15530, 12715, 16154, 13525], 69: [10252, 10100], 70: [3158, 16935], 71: [15589, 6492, 10679, 8871], 72: [15905, 6116, 2938], 73: [9843, 12549, 5711], 74: [1750, 10129, 3697, 1217, 4534], 75: [6537, 7242, 13292, 65, 12159], 76: [141], 77: [8808], 78: [10719, 681, 5177, 10756], 79: [2976, 9111, 7009, 7505, 1147, 14394], 80: [9324, 3036], 81: [1220, 8301, 1982], 82: [11162, 10256, 7581], 83: [6966, 5666, 12758, 10467], 84: [11833, 1213, 6738], 85: [12640, 5046], 86: [1064, 9005, 9851, 11468], 87: [12019, 12227], 88: [10989, 4742, 5894, 3239], 89: [8242, 4549], 90: [], 91: [993, 11574], 92: [5011, 2687, 11472], 93: [5995], 94: [9627, 5154], 95: [9643, 5550], 96: [10030, 7497, 1750], 97: [3358, 11763, 4445, 2916, 4156], 98: [4661, 3840, 9917, 11886], 99: [3155, 6225, 6300, 9221, 11950, 899, 4096], 100: [8153, 10724, 414, 2427, 4268], 101: [3785, 4152, 7429], 102: [4970, 1773, 3430], 103: [5646, 7148], 104: [2063, 2928, 182, 9800], 105: [2797, 7664, 4124, 9384, 6555, 692, 8089, 11285], 106: [6528, 1914], 107: [8194, 5744], 108: [24, 863, 3036], 109: [2752, 2006, 5493, 4754], 110: [10422, 1660, 6543], 111: [10795, 2723, 8696, 4032, 5640, 7436], 112: [2827], 113: [7962, 7149, 2149, 7473, 7298], 114: [9507, 9064, 2255], 115: [2140, 9533], 116: [9023, 844, 4314, 450, 7913, 4206, 8376, 2871, 7553, 1568, 1356], 117: [2164, 1607, 9460, 7766, 640, 1743, 4745], 118: [10138, 1228], 119: [3962, 6567, 5349], 120: [9550, 5718, 5009], 121: [8751, 1414, 3806, 106, 1865, 299, 7479], 122: [9149, 4146, 7338, 1649, 9004, 9505], 123: [6285, 5217, 5658, 1357], 124: [7465, 5375, 1684, 5166, 355, 2831, 9183, 9136, 3490, 6718], 125: [2180, 5755, 6938], 126: [2134, 6328, 8731, 4832, 2885], 127: [7170, 6132], 128: [6944, 4760, 6121, 8853, 5455], 129: [2824, 8887, 7283, 4903], 130: [5244, 5734], 131: [6887, 5727, 6013], 132: [5905, 1269, 8172, 6816], 133: [4553, 6932, 8523], 134: [957, 39, 6168], 135: [2079, 5829, 5438, 1093, 7509, 5574], 136: [2467, 3398], 137: [8283, 3168, 4027, 7372], 138: [1778, 7932, 1144], 139: [5107, 696, 874, 6085], 140: [5602, 2225, 2588, 7869], 141: [127, 7675, 6532], 142: [7860, 1461, 7961], 143: [3198, 4119, 2789, 5859], 144: [7356, 735, 5135, 7609, 3738], 145: [735, 551, 4234], 146: [4478, 6789, 3038, 5621, 1413], 147: [1142], 148: [6438, 2416, 3483], 149: [7551, 7479, 1983, 1958, 7681, 5375], 150: [], 151: [847, 4839], 152: [1467, 6767, 6765, 2699, 3945], 153: [4379, 5948, 2905], 154: [6824, 3357, 3325, 1246, 3052], 155: [2823, 2734, 763, 2358], 156: [1364, 1290, 1286], 157: [4803, 6674, 4468], 158: [897, 4089, 2831, 6018, 1488, 4835], 159: [5052, 4660, 187, 1260], 160: [3400, 583], 161: [], 162: [5110, 3149, 6461, 3655], 163: [], 164: [2571, 736, 3212, 6033], 165: [4113, 3671], 166: [2512, 6780], 167: [1270, 4379], 168: [4201], 169: [3936, 2479, 2538, 6872, 1565, 6451, 1140, 6465]}\n"
          ],
          "name": "stdout"
        }
      ]
    },
    {
      "cell_type": "code",
      "metadata": {
        "id": "eWXWujiq8Nv4",
        "outputId": "eeb282db-4ef3-428f-e284-84508946dbad",
        "colab": {
          "base_uri": "https://localhost:8080/"
        }
      },
      "source": [
        "print(searchELS(s, term1, 0, 170))"
      ],
      "execution_count": 14,
      "outputs": [
        {
          "output_type": "stream",
          "text": [
            "{1: [21078, 108600, 574590, 835684, 1019725, 1169894], 2: [537386, 226804, 435273], 3: [381772], 4: [171879, 173530], 5: [49034, 187730, 220698, 6005, 89354, 150583, 2483, 125792, 181036], 6: [105530, 84523, 183031, 107340, 68631, 98099], 7: [70086, 42814], 8: [31961, 103991], 9: [3905, 11181, 22953, 128010, 54879], 10: [85565], 11: [104380, 30806, 85452, 3043, 58358], 12: [16976, 82976], 13: [20181, 45770, 21414, 27347], 14: [41816, 40136, 7700], 15: [21454, 72275, 64447], 16: [29015, 43909, 44132, 30128], 17: [12806, 18167, 14129], 18: [6276, 39172, 32216], 19: [55605, 10812, 22595, 55995], 20: [38973, 24854, 53085, 7863, 23067], 21: [10088], 22: [45864, 1242, 27304, 5534], 23: [8389], 24: [45254, 37382], 25: [45635], 26: [23327], 27: [10489, 39661], 28: [3016, 38236, 41552, 25309, 28788], 29: [30250, 4418, 6413, 30576, 39217, 18859, 1158], 30: [], 31: [26771, 14242, 8244, 27841, 28128, 15785, 2881, 2047], 32: [26995, 17096, 29109, 18843, 30310, 29721, 10337], 33: [9184, 6726, 8401], 34: [9626, 12529], 35: [28601, 28864, 1643], 36: [], 37: [22613, 23430, 2581, 20714, 25294], 38: [9754, 19622, 23255, 12555, 13360, 4788], 39: [8295, 21123, 19646], 40: [4064, 27265, 16559, 2241, 27067, 18427], 41: [14050, 29064, 7737, 27577, 15690, 12568], 42: [24857, 15654, 25703, 22346], 43: [19940, 4979], 44: [22177, 6148], 45: [6318, 23981, 4845], 46: [8005, 19457], 47: [25501, 5168], 48: [12949, 11215, 6840, 12943, 2561], 49: [22646, 13844, 21457, 14262, 7268], 50: [14377, 15161, 14884], 51: [14657, 4232], 52: [3963, 8121, 7172, 3973, 4443, 23112], 53: [22325, 19770, 2972, 20150], 54: [92, 6002, 16812], 55: [2052, 2662, 389, 19713, 17514, 16718], 56: [20344, 1926, 13911, 5442, 3795, 14940], 57: [], 58: [7523, 16374], 59: [15877, 11208], 60: [16073, 5736, 18057, 1570, 8974], 61: [18527], 62: [1670, 15628, 8028], 63: [9477, 14340, 5536, 3378], 64: [3987], 65: [16349, 4253, 11929, 7838], 66: [7687, 10491, 6578, 16612], 67: [16113, 2959, 15798, 14616, 6365], 68: [15530, 12715, 16154, 13525], 69: [10252, 10100], 70: [3158, 16935], 71: [15589, 6492, 10679, 8871], 72: [15905, 6116, 2938], 73: [9843, 12549, 5711], 74: [1750, 10129, 3697, 1217, 4534], 75: [6537, 7242, 13292, 65, 12159], 76: [141], 77: [8808], 78: [10719, 681, 5177, 10756], 79: [2976, 9111, 7009, 7505, 1147, 14394], 80: [9324, 3036], 81: [1220, 8301, 1982], 82: [11162, 10256, 7581], 83: [6966, 5666, 12758, 10467], 84: [11833, 1213, 6738], 85: [12640, 5046], 86: [1064, 9005, 9851, 11468], 87: [12019, 12227], 88: [10989, 4742, 5894, 3239], 89: [8242, 4549], 90: [], 91: [993, 11574], 92: [5011, 2687, 11472], 93: [5995], 94: [9627, 5154], 95: [9643, 5550], 96: [10030, 7497, 1750], 97: [3358, 11763, 4445, 2916, 4156], 98: [4661, 3840, 9917, 11886], 99: [3155, 6225, 6300, 9221, 11950, 899, 4096], 100: [8153, 10724, 414, 2427, 4268], 101: [3785, 4152, 7429], 102: [4970, 1773, 3430], 103: [5646, 7148], 104: [2063, 2928, 182, 9800], 105: [2797, 7664, 4124, 9384, 6555, 692, 8089, 11285], 106: [6528, 1914], 107: [8194, 5744], 108: [24, 863, 3036], 109: [2752, 2006, 5493, 4754], 110: [10422, 1660, 6543], 111: [10795, 2723, 8696, 4032, 5640, 7436], 112: [2827], 113: [7962, 7149, 2149, 7473, 7298], 114: [9507, 9064, 2255], 115: [2140, 9533], 116: [9023, 844, 4314, 450, 7913, 4206, 8376, 2871, 7553, 1568, 1356], 117: [2164, 1607, 9460, 7766, 640, 1743, 4745], 118: [10138, 1228], 119: [3962, 6567, 5349], 120: [9550, 5718, 5009], 121: [8751, 1414, 3806, 106, 1865, 299, 7479], 122: [9149, 4146, 7338, 1649, 9004, 9505], 123: [6285, 5217, 5658, 1357], 124: [7465, 5375, 1684, 5166, 355, 2831, 9183, 9136, 3490, 6718], 125: [2180, 5755, 6938], 126: [2134, 6328, 8731, 4832, 2885], 127: [7170, 6132], 128: [6944, 4760, 6121, 8853, 5455], 129: [2824, 8887, 7283, 4903], 130: [5244, 5734], 131: [6887, 5727, 6013], 132: [5905, 1269, 8172, 6816], 133: [4553, 6932, 8523], 134: [957, 39, 6168], 135: [2079, 5829, 5438, 1093, 7509, 5574], 136: [2467, 3398], 137: [8283, 3168, 4027, 7372], 138: [1778, 7932, 1144], 139: [5107, 696, 874, 6085], 140: [5602, 2225, 2588, 7869], 141: [127, 7675, 6532], 142: [7860, 1461, 7961], 143: [3198, 4119, 2789, 5859], 144: [7356, 735, 5135, 7609, 3738], 145: [735, 551, 4234], 146: [4478, 6789, 3038, 5621, 1413], 147: [1142], 148: [6438, 2416, 3483], 149: [7551, 7479, 1983, 1958, 7681, 5375], 150: [], 151: [847, 4839], 152: [1467, 6767, 6765, 2699, 3945], 153: [4379, 5948, 2905], 154: [6824, 3357, 3325, 1246, 3052], 155: [2823, 2734, 763, 2358], 156: [1364, 1290, 1286], 157: [4803, 6674, 4468], 158: [897, 4089, 2831, 6018, 1488, 4835], 159: [5052, 4660, 187, 1260], 160: [3400, 583], 161: [], 162: [5110, 3149, 6461, 3655], 163: [], 164: [2571, 736, 3212, 6033], 165: [4113, 3671], 166: [2512, 6780], 167: [1270, 4379], 168: [4201], 169: [3936, 2479, 2538, 6872, 1565, 6451, 1140, 6465]}\n"
          ],
          "name": "stdout"
        }
      ]
    },
    {
      "cell_type": "code",
      "metadata": {
        "colab": {
          "base_uri": "https://localhost:8080/"
        },
        "id": "shb6Q07TUHRo",
        "outputId": "83d4c924-c76c-479f-feb9-075c4ab0efca"
      },
      "source": [
        "results = searchELS(s, term1, 0, 3)\n",
        "for k in results:\n",
        "  for idx in results[k]:\n",
        "    print(s[idx:idx+4])\n",
        "# need to get correct offset to reconstruct"
      ],
      "execution_count": 17,
      "outputs": [
        {
          "output_type": "stream",
          "text": [
            "עדנה\n",
            "עדנה\n",
            "עדנה\n",
            "עדנה\n",
            "עדנה\n",
            "עדנה\n",
            "צואו\n",
            "יהוה\n",
            "להוד\n"
          ],
          "name": "stdout"
        }
      ]
    },
    {
      "cell_type": "code",
      "metadata": {
        "colab": {
          "base_uri": "https://localhost:8080/"
        },
        "id": "xKSTMcW90rMH",
        "outputId": "36ec94ed-ca8f-4c63-f6bc-3e473e46ff33"
      },
      "source": [
        "# write no spaces string to file - only run once\n",
        "text_file = open(\"NoSpacesTanach.dat\", \"w\")\n",
        "text_file.write(s)\n",
        "text_file.close()\n",
        "\n",
        "# delete intermediary datafile\n",
        "! rm datafile\n",
        "\n",
        "#see\n",
        "! ls -la"
      ],
      "execution_count": null,
      "outputs": [
        {
          "output_type": "stream",
          "text": [
            "total 2368\n",
            "drwxr-xr-x 1 root root    4096 Jan 17 05:33 .\n",
            "drwxr-xr-x 1 root root    4096 Jan 17 02:30 ..\n",
            "drwxr-xr-x 1 root root    4096 Jan  8 17:11 .config\n",
            "-rw-r--r-- 1 root root 2405776 Jan 17 05:33 NoSpacesTanach.dat\n"
          ],
          "name": "stdout"
        }
      ]
    },
    {
      "cell_type": "code",
      "metadata": {
        "colab": {
          "base_uri": "https://localhost:8080/",
          "height": 17
        },
        "id": "nAD3QOA4169Z",
        "outputId": "694a2de4-88bd-4cc9-fdf3-aaa26e44767e"
      },
      "source": [
        "# download result file - only run once\n",
        "from google.colab import files\n",
        "files.download('NoSpacesTanach.dat')"
      ],
      "execution_count": null,
      "outputs": [
        {
          "output_type": "display_data",
          "data": {
            "application/javascript": [
              "\n",
              "    async function download(id, filename, size) {\n",
              "      if (!google.colab.kernel.accessAllowed) {\n",
              "        return;\n",
              "      }\n",
              "      const div = document.createElement('div');\n",
              "      const label = document.createElement('label');\n",
              "      label.textContent = `Downloading \"${filename}\": `;\n",
              "      div.appendChild(label);\n",
              "      const progress = document.createElement('progress');\n",
              "      progress.max = size;\n",
              "      div.appendChild(progress);\n",
              "      document.body.appendChild(div);\n",
              "\n",
              "      const buffers = [];\n",
              "      let downloaded = 0;\n",
              "\n",
              "      const channel = await google.colab.kernel.comms.open(id);\n",
              "      // Send a message to notify the kernel that we're ready.\n",
              "      channel.send({})\n",
              "\n",
              "      for await (const message of channel.messages) {\n",
              "        // Send a message to notify the kernel that we're ready.\n",
              "        channel.send({})\n",
              "        if (message.buffers) {\n",
              "          for (const buffer of message.buffers) {\n",
              "            buffers.push(buffer);\n",
              "            downloaded += buffer.byteLength;\n",
              "            progress.value = downloaded;\n",
              "          }\n",
              "        }\n",
              "      }\n",
              "      const blob = new Blob(buffers, {type: 'application/binary'});\n",
              "      const a = document.createElement('a');\n",
              "      a.href = window.URL.createObjectURL(blob);\n",
              "      a.download = filename;\n",
              "      div.appendChild(a);\n",
              "      a.click();\n",
              "      div.remove();\n",
              "    }\n",
              "  "
            ],
            "text/plain": [
              "<IPython.core.display.Javascript object>"
            ]
          },
          "metadata": {
            "tags": []
          }
        },
        {
          "output_type": "display_data",
          "data": {
            "application/javascript": [
              "download(\"download_58412f2d-7828-4a12-b0fd-6e4083eb8892\", \"NoSpacesTanach.dat\", 2405776)"
            ],
            "text/plain": [
              "<IPython.core.display.Javascript object>"
            ]
          },
          "metadata": {
            "tags": []
          }
        }
      ]
    }
  ]
}